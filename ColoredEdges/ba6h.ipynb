{
 "cells": [
  {
   "cell_type": "markdown",
   "source": [
    "# Implement ColoredEdges\n",
    "\n",
    "[ba6h](https://rosalind.info/problems/ba6h/)\n",
    "\n",
    "The following algorithm constructs ColoredEdges(P) for a genome P. In this pseudocode, we will assume that an n-element array (a1, . . . , an) has an invisible (n + 1)-th element that is equal to its first element, i.e., an+1 = a1.\n",
    "\n",
    "    ColoredEdges(P)\n",
    "        Edges ← an empty set\n",
    "        for each chromosome Chromosome in P\n",
    "            Nodes ← ChromosomeToCycle(Chromosome)\n",
    "            for j ← 1 to |Chromosome|\n",
    "                add the edge (Nodes2j, Nodes2j +1) to Edges\n",
    "        return Edges"
   ],
   "metadata": {}
  },
  {
   "cell_type": "code",
   "execution_count": 11,
   "source": [
    "import re"
   ],
   "outputs": [],
   "metadata": {}
  },
  {
   "cell_type": "code",
   "execution_count": 2,
   "source": [
    "def chromosome_to_cycle(chrmosome):\n",
    "    nodes = []\n",
    "    \n",
    "    for i in chrmosome:\n",
    "        if i > 0:\n",
    "            nodes.append(2 * i - 1)\n",
    "            nodes.append(2 * i)\n",
    "        else:\n",
    "            nodes.append(-2 * i)\n",
    "            nodes.append(-2 * i - 1)\n",
    "    return nodes"
   ],
   "outputs": [],
   "metadata": {}
  },
  {
   "cell_type": "code",
   "execution_count": 17,
   "source": [
    "def colored_edges(genome):\n",
    "    edges = []\n",
    "    for chromosome in genome:\n",
    "        nodes = chromosome_to_cycle(chromosome)\n",
    "        for j in range(len(chromosome)):\n",
    "            edges.append((nodes[2 * j + 1], nodes[(2 * j + 2) % len(nodes)]))\n",
    "    return edges"
   ],
   "outputs": [],
   "metadata": {}
  },
  {
   "cell_type": "code",
   "execution_count": 4,
   "source": [
    "def genome_str_to_list(genome):\n",
    "    return list(map(int, genome.split(' ')))"
   ],
   "outputs": [],
   "metadata": {}
  },
  {
   "cell_type": "code",
   "execution_count": 13,
   "source": [
    "def perms_str_to_list(perm_str):\n",
    "    return [genome_str_to_list(perm) for perm in re.findall('\\((.*?)\\)',perm_str)]"
   ],
   "outputs": [],
   "metadata": {}
  },
  {
   "cell_type": "code",
   "execution_count": 22,
   "source": [
    "# file = \"input_1.txt\"\n",
    "file = \"rosalind_ba6h.txt\"\n",
    "with open(file, 'r') as f:\n",
    "    lines = f.read().splitlines()\n",
    "genome = perms_str_to_list(lines[0])\n",
    "print(colored_edges(genome))"
   ],
   "outputs": [
    {
     "output_type": "stream",
     "name": "stdout",
     "text": [
      "[(2, 4), (3, 6), (5, 7), (8, 10), (9, 12), (11, 14), (13, 16), (15, 17), (18, 20), (19, 22), (21, 24), (23, 25), (26, 27), (28, 29), (30, 32), (31, 34), (33, 35), (36, 37), (38, 39), (40, 41), (42, 1), (43, 46), (45, 48), (47, 50), (49, 52), (51, 54), (53, 56), (55, 57), (58, 59), (60, 61), (62, 64), (63, 66), (65, 67), (68, 69), (70, 72), (71, 73), (74, 75), (76, 77), (78, 80), (79, 81), (82, 83), (84, 85), (86, 87), (88, 44), (90, 91), (92, 93), (94, 95), (96, 98), (97, 99), (100, 102), (101, 103), (104, 106), (105, 107), (108, 109), (110, 112), (111, 113), (114, 116), (115, 117), (118, 120), (119, 122), (121, 124), (123, 126), (125, 128), (127, 129), (130, 132), (131, 89), (133, 135), (136, 137), (138, 139), (140, 142), (141, 144), (143, 145), (146, 147), (148, 150), (149, 151), (152, 154), (153, 156), (155, 157), (158, 159), (160, 161), (162, 163), (164, 166), (165, 167), (168, 169), (170, 171), (172, 174), (173, 176), (175, 178), (177, 179), (180, 134), (181, 184), (183, 185), (186, 187), (188, 190), (189, 192), (191, 193), (194, 195), (196, 198), (197, 200), (199, 202), (201, 204), (203, 205), (206, 207), (208, 210), (209, 211), (212, 214), (213, 216), (215, 217), (218, 219), (220, 221), (222, 224), (223, 225), (226, 227), (228, 230), (229, 231), (232, 233), (234, 236), (235, 237), (238, 182), (239, 241), (242, 243), (244, 246), (245, 248), (247, 250), (249, 251), (252, 253), (254, 255), (256, 257), (258, 260), (259, 261), (262, 264), (263, 265), (266, 268), (267, 270), (269, 272), (271, 274), (273, 275), (276, 278), (277, 279), (280, 281), (282, 283), (284, 285), (286, 288), (287, 290), (289, 291), (292, 294), (293, 295), (296, 240), (297, 300), (299, 301), (302, 304), (303, 306), (305, 308), (307, 310), (309, 312), (311, 313), (314, 315), (316, 317), (318, 319), (320, 322), (321, 323), (324, 325), (326, 327), (328, 329), (330, 332), (331, 333), (334, 336), (335, 338), (337, 339), (340, 342), (341, 343), (344, 298)]\n"
     ]
    }
   ],
   "metadata": {}
  }
 ],
 "metadata": {
  "orig_nbformat": 4,
  "language_info": {
   "name": "python",
   "version": "3.8.10",
   "mimetype": "text/x-python",
   "codemirror_mode": {
    "name": "ipython",
    "version": 3
   },
   "pygments_lexer": "ipython3",
   "nbconvert_exporter": "python",
   "file_extension": ".py"
  },
  "kernelspec": {
   "name": "python3",
   "display_name": "Python 3.8.10 64-bit"
  },
  "interpreter": {
   "hash": "916dbcbb3f70747c44a77c7bcd40155683ae19c65e1c03b4aa3499c5328201f1"
  }
 },
 "nbformat": 4,
 "nbformat_minor": 2
}