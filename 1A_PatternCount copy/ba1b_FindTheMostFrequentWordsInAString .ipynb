{
 "cells": [
  {
   "cell_type": "markdown",
   "metadata": {},
   "source": [
    "# Find the Most Frequent Words in a String\n",
    "\n",
    "[ba1b](https://rosalind.info/problems/ba1b/)\n",
    "\n",
    "We say that Pattern is a most frequent k-mer in Text if it maximizes Count(Text, Pattern) among all k-mers. For example, \"ACTAT\" is a most frequent 5-mer in \"ACAACTATGCATCACTATCGGGAACTATCCT\", and \"ATA\" is a most frequent 3-mer of \"CGATATATCCATAG\".\n",
    "\n",
    "### Frequent Words Problem\n",
    "\n",
    "Find the most frequent k-mers in a string.\n",
    "\n",
    "    Given: \n",
    "\n",
    "A DNA string Text and an integer k.\n",
    "\n",
    "    Return: \n",
    "\n",
    "All most frequent k-mers in Text (in any order).\n",
    "\n",
    "Sample Dataset\n",
    "\n",
    "    ACGTTGCATGTCGCATGATGCATGAGAGCT\n",
    "    4\n",
    "\n",
    "Sample Output\n",
    "\n",
    "    CATG GCAT"
   ]
  },
  {
   "cell_type": "code",
   "execution_count": 22,
   "metadata": {},
   "outputs": [],
   "source": [
    "from collections import defaultdict"
   ]
  },
  {
   "cell_type": "code",
   "execution_count": 23,
   "metadata": {},
   "outputs": [],
   "source": [
    "def get_frequent_words(dna, k):\n",
    "    max_count = 0\n",
    "    res = defaultdict(int)\n",
    "    for i in range(len(dna) - k + 1):\n",
    "        res[dna[i:i+k]] += 1\n",
    "        if max_count < res[dna[i:i+k]]:\n",
    "            max_count = res[dna[i:i+k]]\n",
    "    \n",
    "    return ' '.join([key  for (key, value) in res.items() if value == max_count])"
   ]
  },
  {
   "cell_type": "code",
   "execution_count": 27,
   "metadata": {},
   "outputs": [
    {
     "name": "stdout",
     "output_type": "stream",
     "text": [
      "TCGCATGACAT\n"
     ]
    }
   ],
   "source": [
    "file = \"rosalind_ba1b.txt\" \n",
    "# file = \"input.txt\" \n",
    "with open(file, 'r') as f:\n",
    "    lines = f.readlines()\n",
    "    dna, k = lines[0].strip(), int(lines[1])\n",
    "\n",
    "print(get_frequent_words(dna, k))"
   ]
  }
 ],
 "metadata": {
  "interpreter": {
   "hash": "916dbcbb3f70747c44a77c7bcd40155683ae19c65e1c03b4aa3499c5328201f1"
  },
  "kernelspec": {
   "display_name": "Python 3.9.7 64-bit",
   "language": "python",
   "name": "python3"
  },
  "language_info": {
   "codemirror_mode": {
    "name": "ipython",
    "version": 3
   },
   "file_extension": ".py",
   "mimetype": "text/x-python",
   "name": "python",
   "nbconvert_exporter": "python",
   "pygments_lexer": "ipython3",
   "version": "3.8.10"
  },
  "orig_nbformat": 4
 },
 "nbformat": 4,
 "nbformat_minor": 2
}
