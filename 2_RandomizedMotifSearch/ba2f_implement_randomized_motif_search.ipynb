{
 "cells": [
  {
   "cell_type": "markdown",
   "source": [
    "# Implement RandomizedMotifSearch\n",
    "\n",
    "[ba2f](https://rosalind.info/problems/ba2f/)\n",
    "\n",
    "    RANDOMIZEDMOTIFSEARCH(Dna, k, t)\n",
    "        randomly select k-mers Motifs = (Motif1, …, Motift) in each string\n",
    "            from Dna\n",
    "        BestMotifs ← Motifs\n",
    "        while forever\n",
    "            Profile ← Profile(Motifs)\n",
    "            Motifs ← Motifs(Profile, Dna)\n",
    "            if Score(Motifs) < Score(BestMotifs)\n",
    "                BestMotifs ← Motifs\n",
    "            else\n",
    "                return BestMotifs\n",
    "\n",
    "_Given_: Positive integers k and t, followed by a collection of strings Dna.\n",
    "\n",
    "_Return_: A collection BestMotifs resulting from running RandomizedMotifSearch(Dna, k, t) 1000 times. Remember to use pseudocounts!"
   ],
   "metadata": {}
  },
  {
   "cell_type": "code",
   "execution_count": 214,
   "source": [
    "from random import randint\n",
    "import numpy as np"
   ],
   "outputs": [],
   "metadata": {}
  },
  {
   "cell_type": "code",
   "execution_count": 215,
   "source": [
    "def iterate_randomized_motif_search(dna, k ,t):\n",
    "    best_motifs = get_random_motif(dnas, k)\n",
    "    for i in range(1001):\n",
    "        motifs = randomized_motif_search(dna, k, t)\n",
    "        if get_score(motifs) < get_score(best_motifs):\n",
    "            best_motifs = motifs\n",
    "    return best_motifs"
   ],
   "outputs": [],
   "metadata": {}
  },
  {
   "cell_type": "code",
   "execution_count": 216,
   "source": [
    "def randomized_motif_search(dnas,k,t):\n",
    "    motifs = get_random_motif(dnas, k)\n",
    "    best_motifs = motifs\n",
    "    while True:\n",
    "        profile = get_profile(motifs)\n",
    "        motifs = get_motifs(profile, dnas, k)\n",
    "        if get_score(motifs) < get_score(best_motifs):\n",
    "            best_motifs = motifs\n",
    "        else:\n",
    "            return best_motifs"
   ],
   "outputs": [],
   "metadata": {}
  },
  {
   "cell_type": "code",
   "execution_count": 217,
   "source": [
    "# checked\n",
    "def get_random_motif(dnas, k):\n",
    "    motifs = []\n",
    "    for dna in dnas:\n",
    "        i = randint(0, len(dna) - k)\n",
    "        motifs.append(dna[i: i + k])\n",
    "    return motifs"
   ],
   "outputs": [],
   "metadata": {}
  },
  {
   "cell_type": "code",
   "execution_count": 218,
   "source": [
    "def hamming_distance(s1, s2):\n",
    "    return sum([x != y for x, y in zip(s1, s2)])"
   ],
   "outputs": [],
   "metadata": {}
  },
  {
   "cell_type": "code",
   "execution_count": 219,
   "source": [
    "# checked\n",
    "def get_profile(motifs):\n",
    "    columns = [''.join(seq) for seq in zip(*motifs)]\n",
    "    m = np.array([[(col.count(nucl)+1)/(2*len(col)) for nucl in 'ACGT'] for col in columns])\n",
    "    return m\n"
   ],
   "outputs": [],
   "metadata": {}
  },
  {
   "cell_type": "code",
   "execution_count": 220,
   "source": [
    "# checked\n",
    "def get_motifs(profile, dnas, k):\n",
    "    dprofile = {nucl: profile.T[id] for id, nucl in enumerate('ACGT', start = 0)}\n",
    "    motif = []\n",
    "    for dna in dnas:\n",
    "        max_score = 0\n",
    "        for i in range(0, len(dna) - k + 1):\n",
    "            cur_score = np.prod([dprofile[nucl][id] for id, nucl in enumerate(dna[i:i+k])])\n",
    "            if cur_score > max_score:\n",
    "                max_score = cur_score\n",
    "                max_motif = dna[i:i+k]\n",
    "        motif.append(max_motif)\n",
    "    return motif"
   ],
   "outputs": [],
   "metadata": {}
  },
  {
   "cell_type": "code",
   "execution_count": 221,
   "source": [
    "# checked\n",
    "def get_score(motifs):\n",
    "    consensus = ['ACGT'[max(range(len(a)), key = lambda x: a[x])] for a in get_profile(motifs)]\n",
    "    score = sum([hamming_distance(motif, consensus) for motif in motifs])\n",
    "    return score"
   ],
   "outputs": [],
   "metadata": {}
  },
  {
   "cell_type": "code",
   "execution_count": 229,
   "source": [
    "file = \"RandomizedMotifSearch/inputs/rosalind_ba2f.txt\" \n",
    "with open(file, 'r') as f:\n",
    "    lines = f.readlines()\n",
    "    k,t = map(int, lines[0].split())\n",
    "    print(k, t)\n",
    "    dnas = [line.strip() for line in  lines[1:]]\n",
    "    # dnas = lines[1].split()\n",
    "    print(dnas)\n",
    "    # print(randomized_motif_search(dnas,k,t))\n",
    "    print(\"\\n\".join(iterate_randomized_motif_search(dnas,k,t)))\n",
    "\n",
    "# TCTCGGGG CCAAGGTG TACAGGCG TTCAGGTG TCCACGTG\n",
    "# CGATAA GGTTAA GGTATA GGTTAA GGTTAC GGTTAA GGCCAA GGTTAA\n",
    "# TTAACC ATAACT TTAACC TGAAGT TTAACC TTAAGC TTAACC TGAACA\n",
    "# CATGGGGAAAACTGA CCTCTCGATCACCGA CCTATAGATCACCGA CCGATTGATCACCGA CCTTGTGCAGACCGA CCTTGCCTTCACCGA CCTTGTTGCCACCGA ACTTGTGATCACCTT CCTTGTGATCAATTA CCTTGTGATCTGTGA CCTTGTGATCACTCC AACTGTGATCACCGA CCTTAGTATCACCGA CCTTGTGAAATCCGA CCTTGTCGCCACCGA TGTTGTGATCACCGC CACCGTGATCACCGA CCTTGGTTTCACCGA CCTTTGCATCACCGA CCTTGTGATTTACGA\n",
    "# TCTCGGGG CCAAGGTG TACAGGCG TTCAGGTG TCCACGTG"
   ],
   "outputs": [
    {
     "output_type": "stream",
     "name": "stdout",
     "text": [
      "15 20\n",
      "['ACGCACTAGGAAGCTACTGCTAACATGTATAACCTTAACCTGGAGTTGTATTGGGGACTAGACGGGGCAATTACTAGTTATGTGACTAAGGGACGTTGGAGCCGTCAATTACGATTGCAAGGCGGCCGCGTCTGACTGGCTTTGTGTGTTCAGCGTGGCCTCCTTGTTATAAGCATCTACCCTAGTTTATGTAGACGCACTAGGAAGCT', 'ACTGCTAACGAAACTTTGATCTTCATGTATAACCTTAACCTGGAGTTGTATTGGGGACTAGACGGGGCAATTACTAGTTATGTGACTAAGGGACGTTGGAGCCGTCAATTACGATTGCAAGGCGGCCGCGTCTGACTGGCTTTGTGTGTTCAGCGTGGCCTCCTTGTTATAAGCATCTACCCTAGTTTATGTAGACGCACTAGGAAGCT', 'ATGACTCGAAGAGATTGAACCCACAGCATGATAGTTTCCCTGCCTCGTCGGGGAACCCTGCAAATTTATTCCAGCGACACCTTGATCTTGTACGTAACTCACAGTTTATCTAGTCAGAAGATCCCTTGTGCATGTAGCGGTCTACTACAGGCTCGCTGCGGGCCTTGCCAGTTAAATCTTATCCTCCACAAAACTGCCGGAAGGGCCGC', 'GGGCGGGTAGTGTAGAGATTAAGCAGTACCGCTAACCTGTGCGAGCCGTTCGCGAAACTCCTTAGCGTCCTACCTATAGCAAAGAATTGGTGGGAAATTGCCCAGATACCAACGCTGGGCCATGCGACCATTTGACTCTGCATTAACTCTCTCGTAGGCTTATAGGAAGTGACTCTTCCCCCCTCTTATCTGATTCCCCCACCATATTA', 'AAATTCTCCGAAAGTTTGATCTTACATTCTAAAGCTAGCTAAACGAGGTACACGTCGCACTGTGACGGTAATACGCCAATATCCCCTGCCTACACCAAGTGGACTCCGAGGCCGAGTCTACCTAAATACAGACCTTGGGATGGTCACAAAACCAAGGCGGATGGTGATCGATGCTAAGCTTGGCGACCCACGGTCGGAACATGCATATC', 'CACAGCCTCCGCAATGAGCGAACACGTCGTACGGGTTGTTTCTGCTAGATCGGGTATAGCATATTAGTCACACGTCATCCATACGTGGACATTTCGCGAATTCACCACCACCGTACCTTTACTCACTGACACTGCTCGATATGGGTTATGTCTTCGTGCGGGGACGCCTCCCGTGCAGGCCCCATTTGATCTTAACGGTGCATCATGGG', 'TATTCAGAGCGTGGACTCGTCGTAGGCGTAACGTTCGGTACGGATGCTGCCGCGGTTACTCTCTTGTGCGCATTGGGACCTAATTCTTAAATGTCGCCGACGTGTTGATCTTGATCAGCACACGATCGCGTATTATATGCAGAGGGCGTGTTGGCGTATCCTCACTCCATTTGGTTTGTAAATCGGTTGCTGAAGGAGAGGTCTGAGAG', 'ACAGGGTCGCACATGGCGTATGTTGTACACTCAGGTTATATTGGCTAATTGAGGATTGCGGGAACCCAGCTTAGTTATACTAGTGAAGGCCCCGCCGTCCCAATTGGTGAGTTATTCTTAAATTACTCCATTCAACCTCGATCAATAGCTTGTAGCGACCATTTGCAGTTGCCCGAACAGATTCTTAAACTTACGCGTCTTTTAAGTAG', 'ACATGTTCACCATGCCCAAGAAACCGGTCGTCTCGGTGTGCAGTTTAAACTTGACTGGACCCGGGAGGGGAGCAGCCAACTAAATGGGTATTCGCATAGTGGTAGGATTTAGCCCTATTAAAAAGAACTTAGTGTCCGGCTACTGATTCCCACACCTGGACGTCTTCCATTTGCTTTTGAGTACACCATCACCATTTGATCTATACAGT', 'CGCAGATCTCAGTCGATTCGTATTTTTGTCCCGCACGTGTAACGGCGGGTTATATAGGTCGACCACCAGATCTTTTGCGGCGACGGACTAGACCGTCGTACGATCTGTTATAAGGGGTCTGGCCATATTACTCTAGCATCGTGATGCTTACGGCTAATTCTCGTCTTGTGTCCAAGTAACGTTGCAGACCAGAGCATAGACTCGCACGT', 'TCTAGAAGGGTGACATTGAAGCAGAGAGCGGAGATCTGGCATTAAACGCCGAACGAAAGCCGAATTCATTTGCGTGAAGATTATCGCGCGGGGATTTGATCTTGTTGCTACGAAACGGACTGCCGTCCCAGAGGTGGTAGGAGACGACCCGTGCCATACTTATCGCCATTTATCTCCAGCATTCTATGCCTTATACGCGTCCGACAAAA', 'AGCCTCCTTAGGGATGATATCTAATAAGTACCACGCGAGGACGTTCCTATAATATACCATACCTTTCCGCTGATATTTCTCCCATTGCAGGTAGCGCGATACTGTGTTTTGGACTCAGCATTGTGGCCAAGGTCTCCCTGACCATTTGATCAGGCATGCAGCGCGTCTTGATGAAGGTGATGAGGGGTGGAAATCGCCGCACGCGTGCT', 'AGTATGACCGAGAATTGATCGTTTATTTACAAACAACGCTGATTCGTCGACCATTCCTTCTTTCTCTCTCTCGCTGCATAACAAACTGCGCCGTCAAGTCACCCCACTAGAACTATATAGATTCTCGCGCGATATCATCAAGTTTGTAATGCTACCTGGAATACTCCATCTATTTCCTGGCCGGTTCATTGTCGGGAAGAAGTACCCGG', 'TCGCATTTTAGTTTCACGAGCTTAGCGTACTATGATAGCAGCGACCATTTGATAAGCCCCCTGGTACCCTAGACAGGATTATCCGGACCGACGAGTACCTGCCATGTCGTCAAAACGGCTTGTTGGCACGCCCGCACAAATCGTCCACTTTTTGGGCAATGCAAAAGGCGAACAGCCTTCATGGGACGGGATCGGGAGAAGCGTGTCCC', 'AGTGTGGGTGTGTATGAGAAACGTGCGCATGATTCTGGCGCTGTTCAACAACTCGCAATCCATCCAGATAGCGACCATTTCGACTTTTACATTTTAAGGGGAGGATCTTATGCAGGAAAATACGGCCGATTCCAGTTCCGCCATTACACACGGTAGGACGGTCTCCACAACCGCGTGGCACGAGGCTCGCGGCGATGAGAGTCTGAAGA', 'GTATGATATCGGGCCTTGCGCCAAGGTTCTGGTGGAAGCTGTGGCAGTCGAACTTCACCCTAGGATCCGACCGAGTGATCTTTGGAGCTGCCTTTAGGTCCCCACTTCCGATTTCTACTGCAATGGCCAGGTTCTCGAGGAGTATCTACATGGCATAATGTCCGAGCACCGCGATAGCCCCGCGGTCTCCCGTACCCTCATTTCTACCC', 'GTTCGCACAATTCTTCGTGTATTTCATCGTTATGTGAAGGGGTCAATACAGGTTTCAGGGAGCTTAACACGACGGCGACCAACGGATCTTGCTCAACCAAGTACATACCGTTAACCGCGATGAGCTACCTTTCTTTATATGTTACGGCAGGCTGCGCAGTCCAATCAATTATAGGTTATTAGATCCCTCCTACAACCACTGAACATACC', 'CTCCTCTGGCCAAGTGCCAAAGATGCCCCTGCGTGCAAGCGAAGCGACCATCGTATCTTTCCGGGTGGTTCATGTTTCTGGCAAAATTGGACAGTGGTATGAGGGCTCAGCGCAAATCCAGTGACCGTTGATTCAGTAGAATAAGTCTTTGAACATCTCCTGGAGCCTACCGGAATACCATGTGTTAACTCAGCTACAGTATCTAACCC', 'GAACCATTAAGACTGTTTGGAAGTCGACCGGGTGATCTTATCGCCTACATAAGTCTGTTTATTAGCAACTTTCGCTTCGTGTCGGCGCTACTTCAGTAACATAAAGAATATGCTAAACATAGCGACCGTATAGTGGTCGGTTCCGAGTTGGTGCAAGCCGAGTTCGAGTCCTACAAGTTTCTAGATCTCGAAAATCCTTAAAGTAATGA', 'GGATCGGTGACTGTATATGGGCTCCCACAATTCCGAGCATATTACCTGACTGTTAAAAGATCGAGTCCTGGTCAAGCAGCCATCCACCTGACATACACACTATGAATTTAGCCTTGACGAGTAGGAAAAGACGTGCTCGATACTTCCCACGCGTAAAGCTATTTATCCTTTGGCCTGTAAGCTTACATTTGATCTTAGTCACATTAGGG']\n",
      "TGACTAAGGGACGTT\n",
      "CGAAACTTTGATCTT\n",
      "CGACACCTTGATCTT\n",
      "CGACCATTTGACTCT\n",
      "CGAAAGTTTGATCTT\n",
      "GCCCCATTTGATCTT\n",
      "CGACGTGTTGATCTT\n",
      "CGACCATTTGCAGTT\n",
      "TCACCATTTGATCTA\n",
      "CGACCACCAGATCTT\n",
      "CGGGGATTTGATCTT\n",
      "TGACCATTTGATCAG\n",
      "CGACCATTCCTTCTT\n",
      "CGACCATTTGATAAG\n",
      "CGACCATTTCGACTT\n",
      "CGACCGAGTGATCTT\n",
      "CGACCAACGGATCTT\n",
      "CGACCATCGTATCTT\n",
      "CGACCGGGTGATCTT\n",
      "CTTACATTTGATCTT\n"
     ]
    }
   ],
   "metadata": {}
  }
 ],
 "metadata": {
  "orig_nbformat": 4,
  "language_info": {
   "name": "python",
   "version": "3.8.10",
   "mimetype": "text/x-python",
   "codemirror_mode": {
    "name": "ipython",
    "version": 3
   },
   "pygments_lexer": "ipython3",
   "nbconvert_exporter": "python",
   "file_extension": ".py"
  },
  "kernelspec": {
   "name": "python3",
   "display_name": "Python 3.8.10 64-bit"
  },
  "interpreter": {
   "hash": "31f2aee4e71d21fbe5cf8b01ff0e069b9275f58929596ceb00d14d90e3e16cd6"
  }
 },
 "nbformat": 4,
 "nbformat_minor": 2
}