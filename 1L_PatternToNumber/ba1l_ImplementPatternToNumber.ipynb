{
 "cells": [
  {
   "cell_type": "markdown",
   "metadata": {},
   "source": [
    "# Implement PatternToNumber\n",
    "\n",
    "[ba1l](https://rosalind.info/problems/ba1l/)\n",
    "\n",
    "### Implement PatternToNumber\n",
    "\n",
    "Convert a DNA string to a number.\n",
    "\n",
    "    Given: \n",
    "\n",
    "A DNA string Pattern.\n",
    "\n",
    "    Return: \n",
    "\n",
    "PatternToNumber(Pattern).\n",
    "\n",
    "Sample Dataset\n",
    "\n",
    "    AGT\n",
    "\n",
    "Sample Output\n",
    "\n",
    "    11"
   ]
  },
  {
   "cell_type": "code",
   "execution_count": 7,
   "metadata": {},
   "outputs": [],
   "source": [
    "from sys import path\n",
    "path.append(\"../\")\n",
    "from common import symbol_to_number"
   ]
  },
  {
   "cell_type": "code",
   "execution_count": 8,
   "metadata": {},
   "outputs": [],
   "source": [
    "def pattern_to_number(pattern):\n",
    "    if len(pattern) == 0:\n",
    "        return 0\n",
    "    return 4 * pattern_to_number(pattern[:-1]) + symbol_to_number(pattern[-1])"
   ]
  },
  {
   "cell_type": "code",
   "execution_count": 9,
   "metadata": {},
   "outputs": [
    {
     "name": "stdout",
     "output_type": "stream",
     "text": [
      "114819112860908872\n"
     ]
    }
   ],
   "source": [
    "file = \"rosalind_ba1l.txt\" \n",
    "# file = \"input.txt\" \n",
    "with open(file, 'r') as f:\n",
    "    pattern = f.readlines()[0].strip()\n",
    "\n",
    "print(pattern_to_number(pattern))"
   ]
  }
 ],
 "metadata": {
  "interpreter": {
   "hash": "916dbcbb3f70747c44a77c7bcd40155683ae19c65e1c03b4aa3499c5328201f1"
  },
  "kernelspec": {
   "display_name": "Python 3.9.7 64-bit",
   "language": "python",
   "name": "python3"
  },
  "language_info": {
   "codemirror_mode": {
    "name": "ipython",
    "version": 3
   },
   "file_extension": ".py",
   "mimetype": "text/x-python",
   "name": "python",
   "nbconvert_exporter": "python",
   "pygments_lexer": "ipython3",
   "version": "3.8.10"
  },
  "orig_nbformat": 4
 },
 "nbformat": 4,
 "nbformat_minor": 2
}
