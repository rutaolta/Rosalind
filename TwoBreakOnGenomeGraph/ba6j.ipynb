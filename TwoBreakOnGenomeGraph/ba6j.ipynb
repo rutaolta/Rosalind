{
 "cells": [
  {
   "cell_type": "markdown",
   "source": [
    "# Implement 2-BreakOnGenomeGraph\n",
    "\n",
    "[ba6j](https://rosalind.info/problems/ba6j/)\n",
    "\n",
    "We will use 2-Break(1, 6, 3, 8) two denote the 2-break replacing colored edges (1, 6) and (3, 8) in a genome graph with two new colored edges (1, 3) and (6, 8). Note that the order of the nodes in this function matter, since the operation 2-Break(1, 6, 8, 3) would represent a different 2-break that replaces (1, 6) and (3, 8) with (1, 8) and (6, 3).\n",
    "\n",
    "The following pseudocode describes how 2-Break(i, i′, j, j′) transforms a genome graph.\n",
    "\n",
    "    2-BreakOnGenomeGraph(GenomeGraph, i, i′, j, j′)\n",
    "        remove colored edges (i, i') and (j, j′) from GenomeGraph\n",
    "        add colored edges (i, j) and (i′, j') to GenomeGraph\n",
    "        return GenomeGraph"
   ],
   "metadata": {}
  },
  {
   "cell_type": "code",
   "execution_count": 12,
   "source": [
    "import re"
   ],
   "outputs": [],
   "metadata": {}
  },
  {
   "cell_type": "code",
   "execution_count": 30,
   "source": [
    "def two_break_on_genome_graph(graph, i, i_, j, j_):\n",
    "    graph = [x for x in graph if x not in [(i, i_), (j, j_), (i_, i), (j_, j)]]\n",
    "    graph.append((i, j))\n",
    "    graph.append((i_, j_))\n",
    "    return graph"
   ],
   "outputs": [],
   "metadata": {}
  },
  {
   "cell_type": "code",
   "execution_count": 14,
   "source": [
    "def get_indices(indices):\n",
    "    return map(int, indices.split(', '))"
   ],
   "outputs": [],
   "metadata": {}
  },
  {
   "cell_type": "code",
   "execution_count": 15,
   "source": [
    "def nodes_str_to_tuple(nodes):\n",
    "    return tuple(map(int, nodes.split(', ')))"
   ],
   "outputs": [],
   "metadata": {}
  },
  {
   "cell_type": "code",
   "execution_count": 16,
   "source": [
    "def perms_str_to_list(perm_str):\n",
    "    return [nodes_str_to_tuple(perm) for perm in re.findall('\\((.*?)\\)',perm_str)]"
   ],
   "outputs": [],
   "metadata": {}
  },
  {
   "cell_type": "code",
   "execution_count": 29,
   "source": [
    "# file = \"input.txt\"\n",
    "file = \"rosalind_ba6j.txt\"\n",
    "with open(file, 'r') as f:\n",
    "    lines = f.read().splitlines()\n",
    "graph = perms_str_to_list(lines[0])\n",
    "i, i_, j, j_ = get_indices(lines[1])\n",
    "print(two_break_on_genome_graph(graph, i, i_, j, j_))"
   ],
   "outputs": [
    {
     "output_type": "stream",
     "name": "stdout",
     "text": [
      "[(2, 4), (7, 5), (1, 3), (6, 8)]\n"
     ]
    }
   ],
   "metadata": {}
  }
 ],
 "metadata": {
  "orig_nbformat": 4,
  "language_info": {
   "name": "python",
   "version": "3.8.10",
   "mimetype": "text/x-python",
   "codemirror_mode": {
    "name": "ipython",
    "version": 3
   },
   "pygments_lexer": "ipython3",
   "nbconvert_exporter": "python",
   "file_extension": ".py"
  },
  "kernelspec": {
   "name": "python3",
   "display_name": "Python 3.8.10 64-bit"
  },
  "interpreter": {
   "hash": "916dbcbb3f70747c44a77c7bcd40155683ae19c65e1c03b4aa3499c5328201f1"
  }
 },
 "nbformat": 4,
 "nbformat_minor": 2
}