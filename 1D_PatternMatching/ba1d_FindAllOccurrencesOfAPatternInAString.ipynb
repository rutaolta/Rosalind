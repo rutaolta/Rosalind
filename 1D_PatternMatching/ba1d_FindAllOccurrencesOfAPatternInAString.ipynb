{
 "cells": [
  {
   "cell_type": "markdown",
   "metadata": {},
   "source": [
    "# Find All Occurrences of a Pattern in a String\n",
    "\n",
    "[ba1d](https://rosalind.info/problems/ba1d/)\n",
    "\n",
    "In this problem, we ask a simple question: how many times can one string occur as a substring of another? Recall from “Find the Most Frequent Words in a String” that different occurrences of a substring can overlap with each other. For example, ATA occurs three times in CGATATATCCATAG.\n",
    "\n",
    "### Pattern Matching Problem\n",
    "\n",
    "Find all occurrences of a pattern in a string.\n",
    "\n",
    "    Given: \n",
    "\n",
    "Strings Pattern and Genome.\n",
    "\n",
    "    Return: \n",
    "\n",
    "All starting positions in Genome where Pattern appears as a substring. Use 0-based indexing.\n",
    "\n",
    "Sample Dataset\n",
    "\n",
    "    ATAT\n",
    "    GATATATGCATATACTT\n",
    "\n",
    "Sample Output\n",
    "\n",
    "    1 3 9"
   ]
  },
  {
   "cell_type": "code",
   "execution_count": 17,
   "metadata": {},
   "outputs": [],
   "source": [
    "def get_pattern_indexes(seq, pattern):\n",
    "    indexes = []\n",
    "    for i in range(len(seq) - len(pattern) + 1):\n",
    "        if pattern == seq[i: i + len(pattern)]:\n",
    "            indexes.append(str(i)) \n",
    "    return indexes"
   ]
  },
  {
   "cell_type": "code",
   "execution_count": 19,
   "metadata": {},
   "outputs": [
    {
     "name": "stdout",
     "output_type": "stream",
     "text": [
      "30 59 93 110 126 206 236 243 288 301 420 459 491 582 609 625 658 687 714 779 786 793 834 841 848 855 1021 1028 1045 1069 1076 1109 1137 1169 1250 1282 1328 1376 1389 1396 1415 1422 1705 1728 1793 1817 1835 1873 1880 1905 1912 1919 1926 1982 1998 2005 2083 2109 2156 2163 2170 2194 2209 2216 2244 2264 2271 2278 2311 2318 2349 2440 2457 2464 2500 2522 2529 2573 2617 2632 2639 2700 2737 2768 2775 2782 2789 2837 2900 2975 2984 3001 3008 3015 3022 3055 3072 3091 3098 3113 3147 3154 3181 3199 3225 3232 3239 3248 3255 3262 3270 3277 3330 3337 3394 3413 3444 3451 3478 3498 3540 3548 3555 3579 3594 3601 3608 3615 3630 3637 3644 3724 3741 3756 3763 3770 3788 3871 3886 3908 3962 3995 4035 4054 4073 4080 4115 4157 4166 4173 4180 4220 4244 4265 4283 4304 4319 4365 4416 4424 4492 4535 4542 4550 4599 4606 4613 4620 4627 4695 4742 4768 4783 4819 4836 4874 4889 4905 4982 4999 5053 5103 5146 5162 5177 5190 5210 5277 5341 5364 5387 5394 5416 5464 5471 5480 5500 5507 5559 5644 5682 5689 5697 5704 5721 5742 5855 5862 5900 5908 5917 5943 5976 5983 6092 6099 6133 6264 6296 6303 6310 6317 6405 6419 6454 6469 6557 6564 6590 6638 6645 6699 6729 6783 6807 6864 6959 6974 6981 7016 7032 7047 7054 7078 7115 7124 7131 7149 7156 7174 7191 7198 7238 7245 7267 7275 7282 7289 7313 7320 7391 7484 7516 7523 7539 7608 7615 7622 7629 7733 7752 7784 7809 7863 7893 7909 7944 7980 8019 8046 8124 8140 8147 8163 8196 8221 8305 8438 8445 8455 8496 8519 8526 8542 8576 8583 8630 8637 8644 8651 8708 8718 8733 8748 8774 8818 8827 8859\n"
     ]
    }
   ],
   "source": [
    "file = \"rosalind_ba1d.txt\" \n",
    "# file = \"input.txt\" \n",
    "with open(file, 'r') as f:\n",
    "    lines = f.readlines()\n",
    "    pattern, seq  = lines[0].strip(), lines[1]\n",
    "\n",
    "print(' '.join(get_pattern_indexes(seq, pattern)))"
   ]
  }
 ],
 "metadata": {
  "interpreter": {
   "hash": "916dbcbb3f70747c44a77c7bcd40155683ae19c65e1c03b4aa3499c5328201f1"
  },
  "kernelspec": {
   "display_name": "Python 3.9.7 64-bit",
   "language": "python",
   "name": "python3"
  },
  "language_info": {
   "codemirror_mode": {
    "name": "ipython",
    "version": 3
   },
   "file_extension": ".py",
   "mimetype": "text/x-python",
   "name": "python",
   "nbconvert_exporter": "python",
   "pygments_lexer": "ipython3",
   "version": "3.8.10"
  },
  "orig_nbformat": 4
 },
 "nbformat": 4,
 "nbformat_minor": 2
}
