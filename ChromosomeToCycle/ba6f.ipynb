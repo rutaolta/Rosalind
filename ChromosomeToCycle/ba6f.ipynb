{
 "cells": [
  {
   "cell_type": "markdown",
   "source": [
    "# Implement ChromosomeToCycle\n",
    "\n",
    "[ba6f](https://rosalind.info/problems/ba6f/)\n",
    "\n",
    "The following pseudocode bypasses the intermediate step of assigning “head” and “tail” nodes in order to transform a single circular chromosome Chromosome = (Chromosome1, . . . , Chromosomen) into a cycle represented as a sequence of integers Nodes = (Nodes1, . . . , Nodes2n).\n",
    "\n",
    "    CHROMOSOMETOCYCLE(Chromosome)\n",
    "        for j <- 1 to |Chromosome|\n",
    "            i <- Chromosomej\n",
    "            if i > 0\n",
    "                Node2j-1 <- 2i  1\n",
    "                Node2j <- 2i\n",
    "            else\n",
    "                Node2j-1 <- 2i\n",
    "                Node2j <- 2i  1\n",
    "        return Nodes"
   ],
   "metadata": {}
  },
  {
   "cell_type": "code",
   "execution_count": 4,
   "source": [
    "def chromosome_to_cycle(chrmosome):\n",
    "    nodes = []\n",
    "    \n",
    "    for i in chrmosome:\n",
    "        if i > 0:\n",
    "            nodes.append(2 * i - 1)\n",
    "            nodes.append(2 * i)\n",
    "        else:\n",
    "            nodes.append(-2 * i)\n",
    "            nodes.append(-2 * i - 1)\n",
    "    return nodes"
   ],
   "outputs": [],
   "metadata": {}
  },
  {
   "cell_type": "code",
   "execution_count": 5,
   "source": [
    "def genome_str_to_list(genome):\n",
    "    return list(map(int, genome.split(' ')))"
   ],
   "outputs": [],
   "metadata": {}
  },
  {
   "cell_type": "code",
   "execution_count": 6,
   "source": [
    "# file = \"input.txt\"\n",
    "file = \"rosalind_ba6f.txt\"\n",
    "with open(file, 'r') as f:\n",
    "    lines = f.read().splitlines()\n",
    "chrmosome = genome_str_to_list(lines[0][1:-1])\n",
    "print('('+' '.join(map(str, chromosome_to_cycle(chrmosome)))+')')\n"
   ],
   "outputs": [
    {
     "output_type": "stream",
     "name": "stdout",
     "text": [
      "(2 1 4 3 5 6 8 7 10 9 12 11 13 14 16 15 17 18 20 19 21 22 24 23 25 26 28 27 30 29 31 32 34 33 35 36 37 38 40 39 41 42 44 43 45 46 47 48 50 49 52 51 54 53 56 55 57 58 59 60 61 62 63 64 65 66 68 67 70 69 72 71 73 74 75 76 77 78 79 80 82 81 84 83 85 86 88 87 89 90 92 91 94 93 96 95 98 97 99 100 102 101 103 104 106 105 107 108 110 109 112 111 113 114 116 115 118 117 119 120 121 122 124 123)\n"
     ]
    }
   ],
   "metadata": {}
  }
 ],
 "metadata": {
  "orig_nbformat": 4,
  "language_info": {
   "name": "python",
   "version": "3.8.10",
   "mimetype": "text/x-python",
   "codemirror_mode": {
    "name": "ipython",
    "version": 3
   },
   "pygments_lexer": "ipython3",
   "nbconvert_exporter": "python",
   "file_extension": ".py"
  },
  "kernelspec": {
   "name": "python3",
   "display_name": "Python 3.8.10 64-bit"
  },
  "interpreter": {
   "hash": "31f2aee4e71d21fbe5cf8b01ff0e069b9275f58929596ceb00d14d90e3e16cd6"
  }
 },
 "nbformat": 4,
 "nbformat_minor": 2
}