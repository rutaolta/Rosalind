{
 "cells": [
  {
   "cell_type": "markdown",
   "metadata": {},
   "source": [
    "# Find Frequent Words with Mismatches and Reverse Complements\n",
    "\n",
    "[ba1j](https://rosalind.info/problems/ba1j/)\n",
    "\n",
    "We now extend “Find the Most Frequent Words with Mismatches in a String” to find frequent words with both mismatches and reverse complements. Recall that Pattern refers to the reverse complement of Pattern.\n",
    "\n",
    "### Frequent Words with Mismatches and Reverse Complements Problem\n",
    "\n",
    "Find the most frequent k-mers (with mismatches and reverse complements) in a DNA string.\n",
    "\n",
    "    Given: \n",
    "\n",
    "A DNA string Text as well as integers k and d.\n",
    "\n",
    "    Return: \n",
    "\n",
    "All k-mers Pattern maximizing the sum Countd(Text, Pattern) + Countd(Text, Pattern) over all possible k-mers.\n",
    "\n",
    "Sample Dataset\n",
    "\n",
    "    ACGTTGCATGTCGCATGATGCATGAGAGCT\n",
    "    4 1\n",
    "\n",
    "Sample Output\n",
    "\n",
    "    ATGT ACAT"
   ]
  },
  {
   "cell_type": "code",
   "execution_count": 4,
   "metadata": {},
   "outputs": [],
   "source": [
    "from itertools import product\n",
    "from sys import path\n",
    "path.append(\"../\")\n",
    "import common"
   ]
  },
  {
   "cell_type": "code",
   "execution_count": 5,
   "metadata": {},
   "outputs": [],
   "source": [
    "def get_frequent_words(dna, k, d):\n",
    "    kmers = {''.join(kmer):0 for kmer in product('ACGT', repeat = k)} \n",
    "    max_count = 0\n",
    "    words = []\n",
    "    for i in range(len(dna) - k + 1):\n",
    "        for word in [dna[i:i+k], common.get_reverse_complement(dna[i:i+k])]:\n",
    "            for kmer in kmers.keys():\n",
    "                if common.get_hamming_distance(word, kmer) <= d:\n",
    "                    kmers[kmer] += 1\n",
    "                    if max_count < kmers[kmer]:\n",
    "                        max_count = kmers[kmer]\n",
    "                        words = [kmer]\n",
    "                    elif max_count == kmers[kmer]:\n",
    "                        words.append(kmer)\n",
    "    \n",
    "    return ' '.join(words)"
   ]
  },
  {
   "cell_type": "code",
   "execution_count": 6,
   "metadata": {},
   "outputs": [
    {
     "name": "stdout",
     "output_type": "stream",
     "text": [
      "CGCCGCG CGCGGCG\n"
     ]
    }
   ],
   "source": [
    "file = \"rosalind_ba1j.txt\" \n",
    "# file = \"input.txt\" \n",
    "with open(file, 'r') as f:\n",
    "    lines = f.readlines()\n",
    "    dna  = lines[0].strip()\n",
    "    k, d = map(int, lines[1].split())\n",
    "\n",
    "print(get_frequent_words(dna, k, d))"
   ]
  }
 ],
 "metadata": {
  "interpreter": {
   "hash": "916dbcbb3f70747c44a77c7bcd40155683ae19c65e1c03b4aa3499c5328201f1"
  },
  "kernelspec": {
   "display_name": "Python 3.9.7 64-bit",
   "language": "python",
   "name": "python3"
  },
  "language_info": {
   "codemirror_mode": {
    "name": "ipython",
    "version": 3
   },
   "file_extension": ".py",
   "mimetype": "text/x-python",
   "name": "python",
   "nbconvert_exporter": "python",
   "pygments_lexer": "ipython3",
   "version": "3.8.10"
  },
  "orig_nbformat": 4
 },
 "nbformat": 4,
 "nbformat_minor": 2
}
