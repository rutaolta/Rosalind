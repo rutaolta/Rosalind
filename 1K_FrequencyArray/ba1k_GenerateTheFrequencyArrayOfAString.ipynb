{
 "cells": [
  {
   "cell_type": "markdown",
   "metadata": {},
   "source": [
    "# Generate the Frequency Array of a String\n",
    "\n",
    "[ba1k](https://rosalind.info/problems/ba1k/)\n",
    "\n",
    "Given an integer k, we define the frequency array of a string Text as an array of length 4k, where the i-th element of the array holds the number of times that the i-th k-mer (in the lexicographic order) appears in Text (see Figure 1.\n",
    "\n",
    "### Computing a Frequency Array\n",
    "\n",
    "Generate the frequency array of a DNA string.\n",
    "\n",
    "    Given: \n",
    "\n",
    "A DNA string Text and an integer k.\n",
    "\n",
    "    Return: \n",
    "\n",
    "The frequency array of k-mers in Text.\n",
    "\n",
    "Sample Dataset\n",
    "\n",
    "    ACGCGGCTCTGAAA\n",
    "    2\n",
    "\n",
    "Sample Output\n",
    "\n",
    "    2 1 0 0 0 0 2 2 1 2 1 0 0 1 1 0"
   ]
  },
  {
   "cell_type": "code",
   "execution_count": 1,
   "metadata": {},
   "outputs": [],
   "source": [
    "from sys import path\n",
    "path.append(\"../\")\n",
    "from common import pattern_to_number"
   ]
  },
  {
   "cell_type": "code",
   "execution_count": 2,
   "metadata": {},
   "outputs": [],
   "source": [
    "def compute_frequencies(dna, k):\n",
    "    freq_array = [0] * 4**k\n",
    "    for i in range(len(dna) - k + 1):\n",
    "        pattern = dna[i:i+k]\n",
    "        j = pattern_to_number(pattern)\n",
    "        freq_array[j] += 1\n",
    "    return freq_array"
   ]
  },
  {
   "cell_type": "code",
   "execution_count": 3,
   "metadata": {},
   "outputs": [
    {
     "name": "stdout",
     "output_type": "stream",
     "text": [
      "4 2 1 0 1 0 1 1 0 2 0 2 1 0 0 0 0 0 0 2 0 0 0 1 0 2 3 1 1 1 0 0 0 0 1 0 2 1 0 1 0 0 1 0 1 1 0 0 1 0 1 1 0 0 1 0 0 0 1 1 0 0 0 1 2 0 0 0 0 1 0 0 0 0 0 0 1 1 0 2 0 1 0 1 0 1 0 0 0 0 0 0 3 0 0 1 0 1 1 0 1 3 1 1 1 3 1 1 1 0 1 0 0 1 1 0 0 1 0 1 0 0 0 0 0 1 0 1 1 1 0 2 1 1 0 0 0 1 1 0 0 1 0 0 1 1 1 1 1 1 0 1 0 0 0 1 0 2 0 2 0 2 1 0 1 0 2 0 0 0 2 0 1 0 0 1 1 1 1 0 0 0 2 0 0 0 0 1 0 0 0 0 1 1 0 0 0 1 1 2 1 1 0 0 2 0 0 1 1 1 1 0 0 0 1 1 1 2 0 1 2 0 0 0 0 0 0 0 0 0 0 1 0 2 0 1 0 0 1 1 0 0 0 1 0 0 2 1 0 0 0 0 1 2 1 0 1 0 3 0 1 0 1 0 0 0 0 0 0 1 2 0 1 1 0 0 1 1 0 0 1 2 1 0 0 0 0 0 2 1 0 0 0 0 0 0 0 2 0 0 2 0 1 0 0 1 1 1 0 0 2 0 0 0 1 0 1 2 0 1 0 0 0 0 0 0 1 0 1 0 0 1 1 0 0 1 0 0 1 0 0 0 1 0 1 1 0 1 0 0 1 0 0 0 0 1 0 0 1 1 1 2 0 0 0 0 2 0 0 1 2 1 0 0 2 0 1 2 0 1 1 0 0 0 0 0 1 0 0 0 1 0 1 1 1 0 0 0 1 0 2 1 0 1 0 0 1 3 0 1 2 1 2 0 0 4 0 1 1 2 1 2 2 3 0 0 1 0 0 0 1 0 0 1 2 1 0 0 1 1 1 3 2 1 1 1 0 0 1 2 2 0 0 1 1 1 0 1 3 0 1 1 0 1 2 1 0 0 0 1 0 0 1 3 0 1 1 3 1 0 1 0 0 1 1 0 0 3 0 0 1 0 0 1 0 1 0 2 0 0 2 0 0 0 0 1 0 4 1 0 2 1 0 1 0 0 0 0 1 0 0 1 0 0 2 0 0 1 0 0 0 1 0 0 0 2 1 1 1 0 0 0 0 0 1 1 1 0 1 2 0 1 2 1 0 1 0 0 0 0 0 1 0 0 1 1 0 1 0 1 1 0 0 1 0 0 1 1 0 2 0 0 2 0 1 0 1 1 1 1 1 1 0 0 1 1 1 0 1 2 0 1 1 1 1 2 2 0 0 0 0 0 0 0 1 1 0 3 0 0 2 0 4 2 3 1 1 0 1 0 2 3 1 1 0 0 1 1 3 3 0 0 0 0 0 1 2 0 1 2 1 0 1 2 0 1 1 0 1 1 0 2 1 0 0 1 1 3 2 2 2 0 0 0 2 1 0 1 1 1 1 2 2 0 0 0 0 0 1 0 0 1 0 0 0 1 0 0 1 0 0 0 1 0 1 2 0 0 1 0 1 0 1 1 0 1 1 2 0 0 0 0 1 0 0 0 0 0 0 1 1 1 0 1 1 2 0 0 1 0 0 2 3 0 0 1 1 1 0 1 2 1 1 0 0 0 0 1 2 0 0 0 0 1 1 0 1 0 2 0 0 1 0 1 3 1 1 1 1 0 0 0 0 0 1 0 0 1 1 0 0 1 0 1 1 1 1 1 0 2 1 0 0 1 1 0 1 2 1 0 1 1 0 1 0 0 1 2 0 1 2 1 1 1 0 0 0 1 0 0 0 2 1 1 0 1 2 1 1 0 1 0 1 1 0 0 0 0 0 0 0 0 0 0 1 0 0 0 2 0 0 0 1 0 1 0 2 0 3 1 1 3 2 0 0 0 1 2 0 0 2 0 0 2 2 0 1 1 0 1 1 1 0 0 2 0 0 0 0 1 0 0 0 0 1 0 1 0 0 0 1 0 0 0 1 1 0 1 1 1 0 0 0 3 1 2 0 2 0 0 0 1 1 0 0 2 2 1 0 0 1 1 0 0 1 0 0 1 1 0 0 2 0 2 0 2 0 2 0 2 0 0 1 0 1 0 0 1 0 1 0 0 0 2 1 0 0 2 1 0 0 0 1 0 1 2 1 0 1 0 1 0 0 0 1 0 1 1 0 1 1 0 1 0 2 1 1 1 0 0 1 2 1 0 0 1 1 2 2 0 0 0 1 0\n"
     ]
    }
   ],
   "source": [
    "file = \"rosalind_ba1k.txt\" \n",
    "# file = \"input.txt\" \n",
    "with open(file, 'r') as f:\n",
    "    lines = f.readlines()\n",
    "    dna, k = lines[0].strip(), int(lines[1])\n",
    "\n",
    "print(' '.join(map(str, compute_frequencies(dna, k))))"
   ]
  }
 ],
 "metadata": {
  "interpreter": {
   "hash": "916dbcbb3f70747c44a77c7bcd40155683ae19c65e1c03b4aa3499c5328201f1"
  },
  "kernelspec": {
   "display_name": "Python 3.9.7 64-bit",
   "language": "python",
   "name": "python3"
  },
  "language_info": {
   "codemirror_mode": {
    "name": "ipython",
    "version": 3
   },
   "file_extension": ".py",
   "mimetype": "text/x-python",
   "name": "python",
   "nbconvert_exporter": "python",
   "pygments_lexer": "ipython3",
   "version": "3.8.10"
  },
  "orig_nbformat": 4
 },
 "nbformat": 4,
 "nbformat_minor": 2
}
