{
 "cells": [
  {
   "cell_type": "markdown",
   "source": [
    "# Find a Median String\n",
    "\n",
    "[ba2b](https://rosalind.info/problems/ba2b/)\n",
    "\n",
    "Given a k-mer Pattern and a longer string Text, we use d(Pattern, Text) to denote the minimum Hamming distance between Pattern and any k-mer in Text,\n",
    "\n",
    "    d(Pattern,Text)=min (by all k-mers Pattern' in Text) HammingDistance(Pattern,Pattern′).\n",
    "\n",
    "Given a k-mer Pattern and a set of strings Dna = {Dna1, … , Dnat}, we define d(Pattern, Dna) as the sum of distances between Pattern and all strings in Dna,\n",
    "\n",
    "    d(Pattern,Dna)=∑(i=1 to t) d(Pattern,Dnai).\n",
    "\n",
    "Our goal is to find a k-mer Pattern that minimizes d(Pattern, Dna) over all k-mers Pattern, the same task that the Equivalent Motif Finding Problem is trying to achieve. We call such a k-mer a median string for Dna.\n",
    "\n",
    "## Median String Problem\n",
    "\n",
    "Find a median string.\n",
    "\n",
    "    Given: \n",
    "    \n",
    "An integer k and a collection of strings Dna.\n",
    "\n",
    "    Return: \n",
    "    \n",
    "A k-mer Pattern that minimizes d(Pattern, Dna) over all k-mers Pattern. (If multiple answers exist, you may return any one.)\n",
    "\n",
    "    Sample Dataset\n",
    "\n",
    "3\n",
    "\n",
    "AAATTGACGCAT\n",
    "\n",
    "GACGACCACGTT\n",
    "\n",
    "CGTCAGCGCCTG\n",
    "\n",
    "GCTGAGCACCGG\n",
    "\n",
    "AGTACGGGACAG\n",
    "\n",
    "    Sample Output\n",
    "\n",
    "GAC"
   ],
   "metadata": {}
  },
  {
   "cell_type": "markdown",
   "source": [
    "# Pseudocode\n",
    "\n",
    "    MEDIANSTRING(Dna, k)\n",
    "        distance <-- inf\n",
    "        for each k-mer Pattern from AA...AA to TT...TT\n",
    "            if distance > d(Pattern, Dna)\n",
    "                distance <-- d(Pattern, Dna)\n",
    "                Median <-- Pattern\n",
    "        return Median"
   ],
   "metadata": {}
  },
  {
   "cell_type": "code",
   "execution_count": 109,
   "source": [
    "import numpy as np\n",
    "from itertools import product, permutations"
   ],
   "outputs": [],
   "metadata": {}
  },
  {
   "cell_type": "code",
   "execution_count": 110,
   "source": [
    "def hamming_distance(s1, s2):\n",
    "    return sum([x != y for x, y in zip(s1, s2)])\n",
    "\n",
    "hamming_distance('GAGCCTACTAACGGGAT','CATCGTAATGACGGCCT')"
   ],
   "outputs": [
    {
     "output_type": "execute_result",
     "data": {
      "text/plain": [
       "7"
      ]
     },
     "metadata": {},
     "execution_count": 110
    }
   ],
   "metadata": {}
  },
  {
   "cell_type": "code",
   "execution_count": 111,
   "source": [
    "def median_string(dnas, k):\n",
    "    dist = np.inf\n",
    "    for pattern in product('ACGT', repeat=k):\n",
    "        pattern = ''.join(pattern)\n",
    "        hammDist = sum([min_hamming_distance(pattern, dna, k) for dna in dnas])\n",
    "        if dist > hammDist:\n",
    "            dist = hammDist\n",
    "            median = pattern\n",
    "    return median #''.join(median)\n"
   ],
   "outputs": [],
   "metadata": {}
  },
  {
   "cell_type": "code",
   "execution_count": 112,
   "source": [
    "def min_hamming_distance(pattern, dna, k):\n",
    "    return min([hamming_distance(pattern, dna[i:i+k]) for i in range(len(dna)-k+1)])"
   ],
   "outputs": [],
   "metadata": {}
  },
  {
   "cell_type": "code",
   "execution_count": 135,
   "source": [
    "# file = \"MedianString/inputs/input_1.txt\" #ACG\n",
    "# file = \"MedianString/inputs/input_2.txt\" #ACG\n",
    "# file = \"MedianString/inputs/input_3.txt\" #AAA\n",
    "# file = \"MedianString/inputs/input_4.txt\" #AAG\n",
    "# file = \"MedianString/inputs/input_5.txt\" #CGGCGA\n",
    "# file = \"MedianString/inputs/rosalind_ba2b_1.txt\" #AAGTAT - wrong, TACCCA - right\n",
    "# file = \"MedianString/inputs/rosalind_ba2b_2.txt\" #AACGCT - wrong, AGAACG - right\n",
    "file = \"MedianString/inputs/rosalind_ba2b.txt\"\n",
    "with open(file, 'r') as f:\n",
    "    lines = f.readlines()\n",
    "    k = int(lines[0])\n",
    "    dna = [line.strip() for line in  lines[1:]]\n",
    "    print(median_string(dna,k))\n",
    "\n"
   ],
   "outputs": [
    {
     "output_type": "error",
     "ename": "FileNotFoundError",
     "evalue": "[Errno 2] No such file or directory: 'MedianString/inputs/rosalind_ba2b.txt'",
     "traceback": [
      "\u001b[0;31m---------------------------------------------------------------------------\u001b[0m",
      "\u001b[0;31mFileNotFoundError\u001b[0m                         Traceback (most recent call last)",
      "\u001b[0;32m/tmp/ipykernel_123227/1123401710.py\u001b[0m in \u001b[0;36m<module>\u001b[0;34m\u001b[0m\n\u001b[1;32m      7\u001b[0m \u001b[0;31m# file = \"MedianString/inputs/rosalind_ba2b_2.txt\" #AACGCT - wrong, AGAACG - right\u001b[0m\u001b[0;34m\u001b[0m\u001b[0;34m\u001b[0m\u001b[0;34m\u001b[0m\u001b[0m\n\u001b[1;32m      8\u001b[0m \u001b[0mfile\u001b[0m \u001b[0;34m=\u001b[0m \u001b[0;34m\"MedianString/inputs/rosalind_ba2b.txt\"\u001b[0m\u001b[0;34m\u001b[0m\u001b[0;34m\u001b[0m\u001b[0m\n\u001b[0;32m----> 9\u001b[0;31m \u001b[0;32mwith\u001b[0m \u001b[0mopen\u001b[0m\u001b[0;34m(\u001b[0m\u001b[0mfile\u001b[0m\u001b[0;34m,\u001b[0m \u001b[0;34m'r'\u001b[0m\u001b[0;34m)\u001b[0m \u001b[0;32mas\u001b[0m \u001b[0mf\u001b[0m\u001b[0;34m:\u001b[0m\u001b[0;34m\u001b[0m\u001b[0;34m\u001b[0m\u001b[0m\n\u001b[0m\u001b[1;32m     10\u001b[0m     \u001b[0mlines\u001b[0m \u001b[0;34m=\u001b[0m \u001b[0mf\u001b[0m\u001b[0;34m.\u001b[0m\u001b[0mreadlines\u001b[0m\u001b[0;34m(\u001b[0m\u001b[0;34m)\u001b[0m\u001b[0;34m\u001b[0m\u001b[0;34m\u001b[0m\u001b[0m\n\u001b[1;32m     11\u001b[0m     \u001b[0mk\u001b[0m \u001b[0;34m=\u001b[0m \u001b[0mint\u001b[0m\u001b[0;34m(\u001b[0m\u001b[0mlines\u001b[0m\u001b[0;34m[\u001b[0m\u001b[0;36m0\u001b[0m\u001b[0;34m]\u001b[0m\u001b[0;34m)\u001b[0m\u001b[0;34m\u001b[0m\u001b[0;34m\u001b[0m\u001b[0m\n",
      "\u001b[0;31mFileNotFoundError\u001b[0m: [Errno 2] No such file or directory: 'MedianString/inputs/rosalind_ba2b.txt'"
     ]
    }
   ],
   "metadata": {}
  }
 ],
 "metadata": {
  "orig_nbformat": 4,
  "language_info": {
   "name": "python",
   "version": "3.8.10",
   "mimetype": "text/x-python",
   "codemirror_mode": {
    "name": "ipython",
    "version": 3
   },
   "pygments_lexer": "ipython3",
   "nbconvert_exporter": "python",
   "file_extension": ".py"
  },
  "kernelspec": {
   "name": "python3",
   "display_name": "Python 3.8.10 64-bit"
  },
  "interpreter": {
   "hash": "31f2aee4e71d21fbe5cf8b01ff0e069b9275f58929596ceb00d14d90e3e16cd6"
  }
 },
 "nbformat": 4,
 "nbformat_minor": 2
}