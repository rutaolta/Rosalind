{
 "cells": [
  {
   "cell_type": "markdown",
   "metadata": {},
   "source": [
    "# Find a Median String\n",
    "\n",
    "[ba2b](https://rosalind.info/problems/ba2b/)\n",
    "\n",
    "Given a k-mer Pattern and a longer string Text, we use d(Pattern, Text) to denote the minimum Hamming distance between Pattern and any k-mer in Text,\n",
    "\n",
    "    d(Pattern,Text)=min (by all k-mers Pattern' in Text) HammingDistance(Pattern,Pattern′).\n",
    "\n",
    "Given a k-mer Pattern and a set of strings Dna = {Dna1, … , Dnat}, we define d(Pattern, Dna) as the sum of distances between Pattern and all strings in Dna,\n",
    "\n",
    "    d(Pattern,Dna)=∑(i=1 to t) d(Pattern,Dnai).\n",
    "\n",
    "Our goal is to find a k-mer Pattern that minimizes d(Pattern, Dna) over all k-mers Pattern, the same task that the Equivalent Motif Finding Problem is trying to achieve. We call such a k-mer a median string for Dna.\n",
    "\n",
    "## Median String Problem\n",
    "\n",
    "Find a median string.\n",
    "\n",
    "    Given: \n",
    "    \n",
    "An integer k and a collection of strings Dna.\n",
    "\n",
    "    Return: \n",
    "    \n",
    "A k-mer Pattern that minimizes d(Pattern, Dna) over all k-mers Pattern. (If multiple answers exist, you may return any one.)\n",
    "\n",
    "    Sample Dataset\n",
    "\n",
    "3\n",
    "\n",
    "AAATTGACGCAT\n",
    "\n",
    "GACGACCACGTT\n",
    "\n",
    "CGTCAGCGCCTG\n",
    "\n",
    "GCTGAGCACCGG\n",
    "\n",
    "AGTACGGGACAG\n",
    "\n",
    "    Sample Output\n",
    "\n",
    "GAC"
   ]
  },
  {
   "cell_type": "markdown",
   "metadata": {},
   "source": [
    "# Pseudocode\n",
    "\n",
    "    MEDIANSTRING(Dna, k)\n",
    "        distance <-- inf\n",
    "        for each k-mer Pattern from AA...AA to TT...TT\n",
    "            if distance > d(Pattern, Dna)\n",
    "                distance <-- d(Pattern, Dna)\n",
    "                Median <-- Pattern\n",
    "        return Median"
   ]
  },
  {
   "cell_type": "code",
   "execution_count": 2,
   "metadata": {},
   "outputs": [],
   "source": [
    "import numpy as np\n",
    "from itertools import product\n",
    "from sys import path\n",
    "path.append(\"../\")\n",
    "from common import get_hamming_distance"
   ]
  },
  {
   "cell_type": "code",
   "execution_count": 3,
   "metadata": {},
   "outputs": [],
   "source": [
    "def median_string(dnas, k):\n",
    "    dist = np.inf\n",
    "    for pattern in product('ACGT', repeat=k):\n",
    "        pattern = ''.join(pattern)\n",
    "        hammDist = sum([min_hamming_distance(pattern, dna, k) for dna in dnas])\n",
    "        if dist > hammDist:\n",
    "            dist = hammDist\n",
    "            median = pattern\n",
    "    return median\n"
   ]
  },
  {
   "cell_type": "code",
   "execution_count": 4,
   "metadata": {},
   "outputs": [],
   "source": [
    "def min_hamming_distance(pattern, dna, k):\n",
    "    return min([get_hamming_distance(pattern, dna[i:i+k]) for i in range(len(dna)-k+1)])"
   ]
  },
  {
   "cell_type": "code",
   "execution_count": 5,
   "metadata": {},
   "outputs": [
    {
     "name": "stdout",
     "output_type": "stream",
     "text": [
      "CGATCA\n"
     ]
    }
   ],
   "source": [
    "file = \"MedianString/inputs/rosalind_ba2b.txt\"\n",
    "with open(file, 'r') as f:\n",
    "    lines = f.readlines()\n",
    "    k = int(lines[0])\n",
    "    dna = [line.strip() for line in  lines[1:]]\n",
    "    print(median_string(dna,k))\n",
    "\n"
   ]
  }
 ],
 "metadata": {
  "interpreter": {
   "hash": "31f2aee4e71d21fbe5cf8b01ff0e069b9275f58929596ceb00d14d90e3e16cd6"
  },
  "kernelspec": {
   "display_name": "Python 3.8.10 64-bit",
   "name": "python3"
  },
  "language_info": {
   "codemirror_mode": {
    "name": "ipython",
    "version": 3
   },
   "file_extension": ".py",
   "mimetype": "text/x-python",
   "name": "python",
   "nbconvert_exporter": "python",
   "pygments_lexer": "ipython3",
   "version": "3.8.10"
  },
  "orig_nbformat": 4
 },
 "nbformat": 4,
 "nbformat_minor": 2
}
