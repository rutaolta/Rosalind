{
 "cells": [
  {
   "cell_type": "markdown",
   "source": [
    "# Find a Shortest Transformation of One Genome into Another by 2-Breaks\n",
    "\n",
    "[ba6d](https://rosalind.info/problems/ba6d/)\n",
    "\n",
    "## 2-Break Sorting Problem\n",
    "\n",
    "Find a shortest transformation of one genome into another by 2-breaks.\n",
    "\n",
    "    Given: \n",
    "\n",
    "Two genomes with circular chromosomes on the same set of synteny blocks.\n",
    "\n",
    "    Return: \n",
    "\n",
    "The sequence of genomes resulting from applying a shortest sequence of 2-breaks transforming one genome into the other."
   ],
   "metadata": {}
  },
  {
   "cell_type": "code",
   "execution_count": 185,
   "source": [
    "import numpy as np"
   ],
   "outputs": [],
   "metadata": {}
  },
  {
   "cell_type": "code",
   "execution_count": 186,
   "source": [
    "def chromosome_to_cycle(chrmosome):\n",
    "    nodes = []\n",
    "    \n",
    "    for i in chrmosome:\n",
    "        if i > 0:\n",
    "            nodes.append(2 * i - 1)\n",
    "            nodes.append(2 * i)\n",
    "        else:\n",
    "            nodes.append(-2 * i)\n",
    "            nodes.append(-2 * i - 1)\n",
    "    return nodes"
   ],
   "outputs": [],
   "metadata": {}
  },
  {
   "cell_type": "code",
   "execution_count": 187,
   "source": [
    "def colored_edges(genome):\n",
    "    edges = []\n",
    "    for chromosome in genome:\n",
    "        nodes = chromosome_to_cycle(chromosome)\n",
    "        for j in range(len(chromosome)):\n",
    "            edges.append((nodes[2 * j + 1], nodes[(2 * j + 2) % len(nodes)]))\n",
    "    return edges"
   ],
   "outputs": [],
   "metadata": {}
  },
  {
   "cell_type": "code",
   "execution_count": 188,
   "source": [
    "def colored_edges_cycles(blue, red):\n",
    "\tsize = len(blue)+len(red)+1\n",
    "\tadj = np.zeros(shape=(size,2),dtype=int)\n",
    "\tvisited = [0]*(size)\n",
    "\tfor e in blue:\n",
    "\t\tadj[e[0],0] = e[1]\n",
    "\t\tadj[e[1],0] = e[0]\n",
    "\tfor e in red:\n",
    "\t\tadj[e[0],1] = e[1]\n",
    "\t\tadj[e[1],1] = e[0]\n",
    "\tcycles = []\n",
    "\tfor v in range(1,size):\n",
    "\t\tif visited[v]==1:\n",
    "\t\t\tcontinue\n",
    "\t\tvisited[v]==1\n",
    "\t\thead = v\n",
    "\t\tc = [head]\n",
    "\t\tcolor = 0\n",
    "\t\twhile(True):\n",
    "\t\t\tv = adj[v,color]\n",
    "\t\t\tif v == head:\n",
    "\t\t\t\tcycles.append(c)\n",
    "\t\t\t\tbreak\n",
    "\t\t\tvisited[v] = 1\n",
    "\t\t\tc.append(v)\n",
    "\t\t\tcolor = (color+1)%2\n",
    "\treturn cycles"
   ],
   "outputs": [],
   "metadata": {}
  },
  {
   "cell_type": "code",
   "execution_count": 189,
   "source": [
    "def count_block(P,Q):\n",
    "\ts = set()\n",
    "\tfor i in P[0]:\n",
    "\t\ts.add(abs(i))\n",
    "\tfor i in Q[0]:\n",
    "\t\ts.add(abs(i))\n",
    "\treturn len(s)"
   ],
   "outputs": [],
   "metadata": {}
  },
  {
   "cell_type": "code",
   "execution_count": 190,
   "source": [
    "def two_break_distance(P,Q):\n",
    "\tblue = colored_edges(P)\n",
    "\tred = colored_edges(Q)\n",
    "\tcycles = colored_edges_cycles(blue,red)\n",
    "\tcycle_cnt = len(cycles)\n",
    "\tblocks_cnt = count_block(P,Q)\n",
    "\treturn blocks_cnt - cycle_cnt"
   ],
   "outputs": [],
   "metadata": {}
  },
  {
   "cell_type": "code",
   "execution_count": 191,
   "source": [
    "def graph_to_genome(graph):\n",
    "\tvisited = []\n",
    "\tadj = [0 for x in range(len(graph) * 2 + 1)]\n",
    "\tfor e in graph:\n",
    "\t\tadj[e[0]] = e[1]\n",
    "\t\tadj[e[1]] = e[0]\n",
    "\tchromosomes = []\n",
    "\tfor e in graph:\n",
    "\t\torig = e[0]\n",
    "\t\tif orig in visited:\n",
    "\t\t\tcontinue\n",
    "\t\tvisited.append(orig)\n",
    "\t\tif orig%2 == 0:\n",
    "\t\t\tclose = orig - 1\n",
    "\t\telse:\n",
    "\t\t\tclose = orig + 1\n",
    "\t\ttmp = []\n",
    "\t\twhile(True):\n",
    "\t\t\tif orig%2 == 0:\n",
    "\t\t\t\ttmp.append(int(orig/2))\n",
    "\t\t\telse:\n",
    "\t\t\t\ttmp.append(int(-(orig + 1)/2))\n",
    "\t\t\tdest = adj[orig]\n",
    "\t\t\tvisited.append(dest)\n",
    "\t\t\tif dest == close:\n",
    "\t\t\t\tchromosomes.append(tmp)\n",
    "\t\t\t\tbreak\n",
    "\t\t\t\n",
    "\t\t\tif dest%2 == 0:\n",
    "\t\t\t\torig = dest - 1\n",
    "\t\t\telse:\n",
    "\t\t\t\torig = dest + 1\n",
    "\t\t\tvisited.append(orig)\n",
    "\treturn chromosomes"
   ],
   "outputs": [],
   "metadata": {}
  },
  {
   "cell_type": "code",
   "execution_count": 192,
   "source": [
    "def two_break_on_genome(P, i, i_, j, j_):\n",
    "\tgraph = colored_edges(P)\n",
    "\tgraph = two_break_on_genome_graph(graph, i, i_, j, j_)\n",
    "\treturn graph_to_genome(graph)"
   ],
   "outputs": [],
   "metadata": {}
  },
  {
   "cell_type": "code",
   "execution_count": 193,
   "source": [
    "def two_break_on_genome_graph(graph, i, i_, j, j_):\n",
    "    graph = [x for x in graph if x not in [(i, i_), (j, j_), (i_, i), (j_, j)]]\n",
    "    graph.append((i, j))\n",
    "    graph.append((i_, j_))\n",
    "    return graph"
   ],
   "outputs": [],
   "metadata": {}
  },
  {
   "cell_type": "code",
   "execution_count": 194,
   "source": [
    "def two_break_sorting(P,Q):\n",
    "\tred = colored_edges(Q)\n",
    "\tpath = [P]\n",
    "\t\n",
    "\twhile(two_break_distance(P, Q) > 0):\n",
    "\t\tblue = colored_edges(P)\n",
    "\t\tcycles = colored_edges_cycles(blue,red)\n",
    "\t\tfor c in cycles:\n",
    "\t\t\tif len(c) >= 4:\n",
    "\t\t\t\tP = two_break_on_genome(P, c[0], c[1], c[3], c[2])\n",
    "\t\t\t\tpath.append(P)\n",
    "\t\t\t\tbreak\n",
    "\treturn path"
   ],
   "outputs": [],
   "metadata": {}
  },
  {
   "cell_type": "code",
   "execution_count": 195,
   "source": [
    "def genome_str_to_list(genome):\n",
    "    return list(map(int, genome.split(' ')))"
   ],
   "outputs": [],
   "metadata": {}
  },
  {
   "cell_type": "code",
   "execution_count": 196,
   "source": [
    "def list_to_chromosome(genome):\n",
    "    return ''.join(['(' + ' '.join(['+' + str(int(part)) if part > 0 else str(int(part)) for part in chrm]) + ')' for chrm in genome])"
   ],
   "outputs": [],
   "metadata": {}
  },
  {
   "cell_type": "code",
   "execution_count": 197,
   "source": [
    "file = \"rosalind_ba6d.txt\"\n",
    "with open(file, 'r') as f:\n",
    "    lines = f.read().splitlines()\n",
    "P = [genome_str_to_list(lines[0][1:-1])]\n",
    "Q = [genome_str_to_list(lines[1][1:-1])]\n",
    "\n",
    "transformations = two_break_sorting(P, Q)\n",
    "for transformation in transformations:\n",
    "    print(list_to_chromosome(transformation))\n"
   ],
   "outputs": [
    {
     "output_type": "stream",
     "name": "stdout",
     "text": [
      "(-1 -7 +6 +9 -2 +12 +3 +11 -10 +8 -5 -4)\n",
      "(-7 +6 +9 -2 +12 +3 +11 -10 +8 -5 -4)(-1)\n",
      "(+6 +9 -2 +12 +3 +11 -10 +8 -5 -4 -7 +1)\n",
      "(+6 +9 -2 +12 +3 +11 -10 +7 +4 +5 -8 +1)\n",
      "(+6 +9 -2 +8 -5 -4 -7 +10 -11 -3 -12 +1)\n",
      "(+9 -2 +8 -5 -4 -7 +10 -11 -3 -12 -6 -1)\n",
      "(-2 +8 -5 -4 -7 +10 -11 -3 -12 -6 -1 -9)\n",
      "(-2 +8 -5 -4 -7 +10 +1 +6 +12 +3 +11 -9)\n",
      "(-2 +8 -5 -4 -7 +10 +1 +6 +12 -3 +11 -9)\n",
      "(-2 +8 +3 -12 -6 -1 -10 +7 +4 +5 +11 -9)\n",
      "(-2 +8 -4 -7 +10 +1 +6 +12 -3 +5 +11 -9)\n"
     ]
    }
   ],
   "metadata": {}
  }
 ],
 "metadata": {
  "orig_nbformat": 4,
  "language_info": {
   "name": "python",
   "version": "3.9.7",
   "mimetype": "text/x-python",
   "codemirror_mode": {
    "name": "ipython",
    "version": 3
   },
   "pygments_lexer": "ipython3",
   "nbconvert_exporter": "python",
   "file_extension": ".py"
  },
  "kernelspec": {
   "name": "python3",
   "display_name": "Python 3.9.7 64-bit ('base': conda)"
  },
  "interpreter": {
   "hash": "41dad33ac27be026cb602e0a62f760d014741d4939993a4186ae922aa189125a"
  }
 },
 "nbformat": 4,
 "nbformat_minor": 2
}