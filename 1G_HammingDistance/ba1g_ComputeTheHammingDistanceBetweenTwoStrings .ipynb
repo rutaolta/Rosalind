{
 "cells": [
  {
   "cell_type": "markdown",
   "metadata": {},
   "source": [
    "# Compute the Hamming Distance Between Two Strings\n",
    "\n",
    "[ba1g](https://rosalind.info/problems/ba1g/)\n",
    "\n",
    "We say that position i in k-mers p1 … pk and q1 … qk is a mismatch if pi ≠ qi. For example, CGAAT and CGGAC have two mismatches. The number of mismatches between strings p and q is called the Hamming distance between these strings and is denoted HammingDistance(p, q).\n",
    "\n",
    "### Hamming Distance Problem\n",
    "\n",
    "Compute the Hamming distance between two DNA strings.\n",
    "\n",
    "    Given: \n",
    "\n",
    "Two DNA strings.\n",
    "\n",
    "    Return: \n",
    "\n",
    "An integer value representing the Hamming distance.\n",
    "\n",
    "Sample Dataset\n",
    "\n",
    "    GGGCCGTTGGT\n",
    "    GGACCGTTGAC\n",
    "\n",
    "Sample Output\n",
    "\n",
    "    3"
   ]
  },
  {
   "cell_type": "code",
   "execution_count": 1,
   "metadata": {},
   "outputs": [],
   "source": [
    "def get_hamming_distance(dna1, dna2):\n",
    "    return sum([x != y for x, y in zip(dna1, dna2)])"
   ]
  },
  {
   "cell_type": "code",
   "execution_count": 4,
   "metadata": {},
   "outputs": [
    {
     "name": "stdout",
     "output_type": "stream",
     "text": [
      "849\n"
     ]
    }
   ],
   "source": [
    "file = \"rosalind_ba1g.txt\" \n",
    "# file = \"input.txt\" \n",
    "with open(file, 'r') as f:\n",
    "    lines = f.readlines()\n",
    "    dna1, dna2 = lines[0].strip(), lines[1].strip()\n",
    "\n",
    "print(get_hamming_distance(dna1, dna2))"
   ]
  }
 ],
 "metadata": {
  "interpreter": {
   "hash": "916dbcbb3f70747c44a77c7bcd40155683ae19c65e1c03b4aa3499c5328201f1"
  },
  "kernelspec": {
   "display_name": "Python 3.9.7 64-bit",
   "language": "python",
   "name": "python3"
  },
  "language_info": {
   "codemirror_mode": {
    "name": "ipython",
    "version": 3
   },
   "file_extension": ".py",
   "mimetype": "text/x-python",
   "name": "python",
   "nbconvert_exporter": "python",
   "pygments_lexer": "ipython3",
   "version": "3.8.10"
  },
  "orig_nbformat": 4
 },
 "nbformat": 4,
 "nbformat_minor": 2
}
