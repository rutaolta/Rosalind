{
 "cells": [
  {
   "cell_type": "markdown",
   "metadata": {},
   "source": [
    "# Towers of Hanoi Problem\n",
    "\n",
    "Solve the Towers of Hanoi puzzle.\n",
    "\n",
    "    HANOITOWERS(n, startPeg, destinationPeg)\n",
    "        if n = 1\n",
    "            Move top disk from startPeg to destinationPeg\n",
    "            return\n",
    "        transitPeg = 6 startPeg destinationPeg\n",
    "        HANOITOWERS (n 1, startPeg, transitPeg)\n",
    "        Move top disk from startPeg to destinationPeg\n",
    "        HANOITOWERS (n 1, transitPeg, destinationPeg)\n",
    "        return\n",
    "\n",
    "### Implement PatternCount\n",
    "\n",
    "    Given: \n",
    "\n",
    "An integer n.\n",
    "\n",
    "    Return: \n",
    "\n",
    "A sequence of moves that will solve the Towers of Hanoi puzzle\n",
    "with n disks."
   ]
  },
  {
   "cell_type": "code",
   "execution_count": 32,
   "metadata": {},
   "outputs": [
    {
     "name": "stdout",
     "output_type": "stream",
     "text": [
      "hanoi_towers1(3,1,2)\n",
      "hanoi_towers1(2,1,3)\n",
      "hanoi_towers1(1,1,2)\n",
      "hanoi_towers2(1,2,3)\n",
      "hanoi_towers2(2,3,2)\n",
      "hanoi_towers1(1,3,1)\n",
      "hanoi_towers2(1,1,2)\n",
      "hanoi_towers2(3,2,3)\n",
      "hanoi_towers1(2,2,1)\n",
      "hanoi_towers1(1,2,3)\n",
      "hanoi_towers2(1,3,1)\n",
      "hanoi_towers2(2,1,3)\n",
      "hanoi_towers1(1,1,2)\n",
      "hanoi_towers2(1,2,3)\n"
     ]
    },
    {
     "data": {
      "text/plain": [
       "'1234'"
      ]
     },
     "execution_count": 32,
     "metadata": {},
     "output_type": "execute_result"
    }
   ],
   "source": [
    "def hanoi_towers(disk, n, start, destination):\n",
    "    if n == 1:\n",
    "        disk = disk[:start]+disk[start+1:destination+1]+disk[start]+disk[destination+1:] # move\n",
    "        return disk\n",
    "    transit = 6 - start - destination\n",
    "    print(\"hanoi_towers1(\"+str(n-1)+\",\"+str(start)+\",\"+str(transit)+\")\")\n",
    "    hanoi_towers(disk, n-1, start, transit)\n",
    "    disk = disk[:start]+disk[start+1:destination+1]+disk[start]+disk[destination+1:] # move\n",
    "    print(\"hanoi_towers2(\"+str(n-1)+\",\"+str(transit)+\",\"+str(destination)+\")\")\n",
    "    hanoi_towers(disk, n-1, transit, destination)\n",
    "    return disk\n",
    "\n",
    "disk = '1423'\n",
    "hanoi_towers(disk, len(disk), 1, 3)"
   ]
  }
 ],
 "metadata": {
  "interpreter": {
   "hash": "916dbcbb3f70747c44a77c7bcd40155683ae19c65e1c03b4aa3499c5328201f1"
  },
  "kernelspec": {
   "display_name": "Python 3.9.7 64-bit",
   "language": "python",
   "name": "python3"
  },
  "language_info": {
   "codemirror_mode": {
    "name": "ipython",
    "version": 3
   },
   "file_extension": ".py",
   "mimetype": "text/x-python",
   "name": "python",
   "nbconvert_exporter": "python",
   "pygments_lexer": "ipython3",
   "version": "3.8.10"
  },
  "orig_nbformat": 4
 },
 "nbformat": 4,
 "nbformat_minor": 2
}
