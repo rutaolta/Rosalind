{
 "cells": [
  {
   "cell_type": "markdown",
   "source": [
    "# Pattern Matching with the Suffix Array\n",
    "\n",
    "[ba9h](https://rosalind.info/problems/ba9h/)\n",
    "\n",
    "## Multiple Pattern Matching with the Suffix Array\n",
    "\n",
    "    Given: \n",
    "\n",
    "A string Text and a collection of strings Patterns.\n",
    "\n",
    "    Return: \n",
    "\n",
    "All starting positions in Text where a string from Patterns appears as a substring.\n",
    "\n",
    "## Pseudocode\n",
    "\n",
    "    PATTERNMATCHINGWITHSUFFIXARRAY(Text, Pattern, SUFFIXARRAY)\n",
    "        minIndex <- 0\n",
    "        maxIndex <- |Text|\n",
    "        while minIndex < maxIndex\n",
    "            midIndex (minIndex + maxIndex)/2\n",
    "            if Pattern > suffix of Text starting at position SUFFIXARRAY(midIndex)\n",
    "                minIndex <- midIndex + 1\n",
    "            else\n",
    "                maxIndex <- midIndex\n",
    "        first <- minIndex\n",
    "        maxIndex <- |Text|\n",
    "        while minIndex < maxIndex\n",
    "            midIndex (minIndex + maxIndex)/2\n",
    "            if Pattern < suffix of Text starting at position SUFFIXARRAY(midIndex)\n",
    "                maxIndex <- midIndex\n",
    "            else\n",
    "                minIndex <- midIndex + 1\n",
    "        last <- maxIndex\n",
    "        if first > last\n",
    "            return \"Pattern does not appear in Text\"\n",
    "        else\n",
    "            return (first, last)"
   ],
   "metadata": {}
  },
  {
   "cell_type": "code",
   "execution_count": 131,
   "source": [
    "def get_one_pattern_matching_with_suffix_array(text, pattern, suffix_array):\n",
    "    min_index = 0\n",
    "    max_index = len(text)\n",
    "    while min_index < max_index:\n",
    "        mid_index = (min_index + max_index)//2\n",
    "        if pattern > text[suffix_array[mid_index]:]:\n",
    "            min_index = mid_index + 1\n",
    "        else:\n",
    "            max_index = mid_index\n",
    "            \n",
    "    first = min_index\n",
    "    max_index = len(text)\n",
    "    while min_index < max_index:\n",
    "        mid_index = (min_index + max_index)//2\n",
    "        # if pattern < text[suffix_array[mid_index]:]:\n",
    "        #     max_index = mid_index\n",
    "        # else:\n",
    "        #     min_index = mid_index + 1\n",
    "        if text[suffix_array[mid_index]:].startswith(pattern):\n",
    "            min_index = mid_index + 1\n",
    "        else:\n",
    "            max_index = mid_index\n",
    "            \n",
    "    last = max_index\n",
    "    return first, last"
   ],
   "outputs": [],
   "metadata": {}
  },
  {
   "cell_type": "code",
   "execution_count": 132,
   "source": [
    "def get_suffix_array(text):\n",
    "    suffixes = {}\n",
    "    for i in range(len(text) + 1):\n",
    "        suffixes[i] = text[i:]\n",
    "    return sorted(suffixes, key=suffixes.get)"
   ],
   "outputs": [],
   "metadata": {}
  },
  {
   "cell_type": "code",
   "execution_count": 133,
   "source": [
    "def get_multiple_pattern_matching_with_suffix_array(text, patterns):\n",
    "    suf_arr = get_suffix_array(text)\n",
    "    matches = []\n",
    "    for pattern in patterns:\n",
    "        first,last = get_one_pattern_matching_with_suffix_array(text, pattern, suf_arr)\n",
    "        for i in range(first, last):\n",
    "            matches.append(suf_arr[i])\n",
    "    return sorted(matches)"
   ],
   "outputs": [],
   "metadata": {}
  },
  {
   "cell_type": "code",
   "execution_count": 134,
   "source": [
    "with open(\"rosalind_ba9h.txt\") as f:\n",
    "    lines = f.readlines()\n",
    "text = lines[0].strip()\n",
    "patterns = [line.rstrip() for line in lines[1:]]\n",
    "print(' '.join(map(str, get_multiple_pattern_matching_with_suffix_array(text, patterns))))\n"
   ],
   "outputs": [
    {
     "output_type": "stream",
     "name": "stdout",
     "text": [
      "8 15 100 149 156 232 245 252 383 390 419 426 829 836 1093 1100 1229 1236 1282 1372 1379 1453 1607 1619 1654 1661 1733 1908 2020 2043 2050 2107 2115 2201 2254 2382 2389 2428 2492\n"
     ]
    }
   ],
   "metadata": {}
  }
 ],
 "metadata": {
  "orig_nbformat": 4,
  "language_info": {
   "name": "python",
   "version": "3.8.10",
   "mimetype": "text/x-python",
   "codemirror_mode": {
    "name": "ipython",
    "version": 3
   },
   "pygments_lexer": "ipython3",
   "nbconvert_exporter": "python",
   "file_extension": ".py"
  },
  "kernelspec": {
   "name": "python3",
   "display_name": "Python 3.8.10 64-bit"
  },
  "interpreter": {
   "hash": "31f2aee4e71d21fbe5cf8b01ff0e069b9275f58929596ceb00d14d90e3e16cd6"
  }
 },
 "nbformat": 4,
 "nbformat_minor": 2
}