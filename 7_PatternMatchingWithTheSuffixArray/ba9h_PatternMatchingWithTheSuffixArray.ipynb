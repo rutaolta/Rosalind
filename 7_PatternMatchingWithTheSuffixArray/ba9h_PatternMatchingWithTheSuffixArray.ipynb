{
 "cells": [
  {
   "cell_type": "markdown",
   "source": [
    "# Pattern Matching with the Suffix Array\n",
    "\n",
    "[ba9h](https://rosalind.info/problems/ba9h/)\n",
    "\n",
    "## Multiple Pattern Matching with the Suffix Array\n",
    "\n",
    "    Given: \n",
    "\n",
    "A string Text and a collection of strings Patterns.\n",
    "\n",
    "    Return: \n",
    "\n",
    "All starting positions in Text where a string from Patterns appears as a substring.\n",
    "\n",
    "## Pseudocode\n",
    "\n",
    "    PATTERNMATCHINGWITHSUFFIXARRAY(Text, Pattern, SUFFIXARRAY)\n",
    "        minIndex <- 0\n",
    "        maxIndex <- |Text|\n",
    "        while minIndex < maxIndex\n",
    "            midIndex (minIndex + maxIndex)/2\n",
    "            if Pattern > suffix of Text starting at position SUFFIXARRAY(midIndex)\n",
    "                minIndex <- midIndex + 1\n",
    "            else\n",
    "                maxIndex <- midIndex\n",
    "        first <- minIndex\n",
    "        maxIndex <- |Text|\n",
    "        while minIndex < maxIndex\n",
    "            midIndex (minIndex + maxIndex)/2\n",
    "            if Pattern < suffix of Text starting at position SUFFIXARRAY(midIndex)\n",
    "                maxIndex <- midIndex\n",
    "            else\n",
    "                minIndex <- midIndex + 1\n",
    "        last <- maxIndex\n",
    "        if first > last\n",
    "            return \"Pattern does not appear in Text\"\n",
    "        else\n",
    "            return (first, last)"
   ],
   "metadata": {}
  },
  {
   "cell_type": "code",
   "execution_count": 39,
   "source": [
    "def MatchOnePatternUsingSuffixArray(Text, Pattern, SuffixArray):\n",
    "    minIndex = 0\n",
    "    maxIndex = len(Text)\n",
    "    while minIndex < maxIndex:\n",
    "        midIndex = (minIndex + maxIndex)//2\n",
    "        if Pattern > Text[SuffixArray[midIndex]:]:\n",
    "            minIndex = midIndex + 1\n",
    "        else:\n",
    "            maxIndex = midIndex\n",
    "            \n",
    "    first    = minIndex\n",
    "    maxIndex = len(Text)\n",
    "    while minIndex < maxIndex:\n",
    "        midIndex = (minIndex + maxIndex)//2\n",
    "        # if Pattern < Text[SuffixArray[midIndex]:]:\n",
    "        #     maxIndex = midIndex\n",
    "        # else:\n",
    "        #     minIndex = midIndex + 1\n",
    "        if Text[SuffixArray[midIndex]:].startswith(Pattern):\n",
    "            minIndex = midIndex + 1\n",
    "        else:\n",
    "            maxIndex = midIndex\n",
    "            \n",
    "    last = maxIndex\n",
    "    return (first,last)"
   ],
   "outputs": [],
   "metadata": {}
  },
  {
   "cell_type": "code",
   "execution_count": 35,
   "source": [
    "def SuffixArray(Text):\n",
    "    suffixes = {}\n",
    "    for i in range(len(Text)+1):\n",
    "        suffixes[i]=Text[i:]\n",
    "    return sorted(suffixes, key=suffixes.get)"
   ],
   "outputs": [],
   "metadata": {}
  },
  {
   "cell_type": "code",
   "execution_count": 111,
   "source": [
    "def MatchPatternsUsingSuffixArray(Text,Patterns):\n",
    "    suf_arr = SuffixArray(Text)\n",
    "    Matches = []\n",
    "    for Pattern in Patterns:\n",
    "        first,last = MatchOnePatternUsingSuffixArray(Text,Pattern,suf_arr)\n",
    "        for i in range(first,last):\n",
    "            Matches.append(suf_arr[i])\n",
    "    return sorted(Matches)"
   ],
   "outputs": [],
   "metadata": {}
  },
  {
   "cell_type": "code",
   "execution_count": 122,
   "source": [
    "# with open(\"SuffixArrayPatternMatching/inputs/input_5.txt\") as f:\n",
    "with open(\"rosalind_ba9h.txt\") as f:\n",
    "    lines = f.readlines()\n",
    "Text = lines[0].strip()\n",
    "Patterns = lines = [line.rstrip() for line in lines[1:]]\n",
    "print(' '.join(map(str,MatchPatternsUsingSuffixArray(Text,Patterns))))\n"
   ],
   "outputs": [
    {
     "output_type": "stream",
     "name": "stdout",
     "text": [
      "8 15 100 149 156 232 245 252 383 390 419 426 829 836 1093 1100 1229 1236 1282 1372 1379 1453 1607 1619 1654 1661 1733 1908 2020 2043 2050 2107 2115 2201 2254 2382 2389 2428 2492\n"
     ]
    }
   ],
   "metadata": {}
  }
 ],
 "metadata": {
  "orig_nbformat": 4,
  "language_info": {
   "name": "python",
   "version": "3.8.10",
   "mimetype": "text/x-python",
   "codemirror_mode": {
    "name": "ipython",
    "version": 3
   },
   "pygments_lexer": "ipython3",
   "nbconvert_exporter": "python",
   "file_extension": ".py"
  },
  "kernelspec": {
   "name": "python3",
   "display_name": "Python 3.8.10 64-bit"
  },
  "interpreter": {
   "hash": "31f2aee4e71d21fbe5cf8b01ff0e069b9275f58929596ceb00d14d90e3e16cd6"
  }
 },
 "nbformat": 4,
 "nbformat_minor": 2
}