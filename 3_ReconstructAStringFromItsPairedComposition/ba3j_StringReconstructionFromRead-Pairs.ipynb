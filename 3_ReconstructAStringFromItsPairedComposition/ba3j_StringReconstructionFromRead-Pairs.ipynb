{
 "cells": [
  {
   "cell_type": "markdown",
   "source": [
    "## String Reconstruction from Read-Pairs Problem\n",
    "\n",
    "[ba3j](https://rosalind.info/problems/ba3j/)\n",
    "\n",
    "Reconstruct a string from its paired composition.\n",
    "\n",
    "    Given: \n",
    "\n",
    "Integers k and d followed by a collection of paired k-mers PairedReads.\n",
    "\n",
    "    Return: \n",
    "    \n",
    "A string Text with (k, d)-mer composition equal to PairedReads. (If multiple answers exist, you may return any one.)"
   ],
   "metadata": {}
  },
  {
   "cell_type": "code",
   "execution_count": 10,
   "source": [
    "from collections import defaultdict\n"
   ],
   "outputs": [],
   "metadata": {}
  },
  {
   "cell_type": "code",
   "execution_count": 11,
   "source": [
    "def get_prefix(pair):\n",
    "    return (pair[0][:-1], pair[1][:-1])"
   ],
   "outputs": [],
   "metadata": {}
  },
  {
   "cell_type": "code",
   "execution_count": 12,
   "source": [
    "def get_suffix(pair):\n",
    "    return (pair[0][1:], pair[1][1:])"
   ],
   "outputs": [],
   "metadata": {}
  },
  {
   "cell_type": "code",
   "execution_count": 13,
   "source": [
    "def get_de_bruijn_graph(pairs):\n",
    "    graph = defaultdict(set)\n",
    "    vertices = set()\n",
    "    for pair in pairs:\n",
    "        suffix = get_suffix(pair)\n",
    "        prefix = get_prefix(pair)\n",
    "        graph[prefix].add(suffix)\n",
    "        vertices.add(prefix)\n",
    "        vertices.add(suffix)\n",
    "    return graph, list(vertices)"
   ],
   "outputs": [],
   "metadata": {}
  },
  {
   "cell_type": "code",
   "execution_count": 15,
   "source": [
    "def get_reconstruction(path,k,d):\n",
    "    pref = ''.join([path[0][0]] + [x[int(k)-2:] for x, y in path[1:]])\n",
    "    suff = ''.join([path[0][1]] + [y[int(k)-2:] for x, y in path[1:]])\n",
    "\n",
    "    return pref[:d+k] + suff"
   ],
   "outputs": [],
   "metadata": {}
  },
  {
   "cell_type": "code",
   "execution_count": 16,
   "source": [
    "def get_eulerian_path(graph, vertices):\n",
    "  in_edges = dict.fromkeys(vertices, 0)\n",
    "  out_edges = dict.fromkeys(vertices, 0)\n",
    "  for vertex in vertices:\n",
    "    if vertex in graph:\n",
    "      out_edges[vertex] = len(graph[vertex])\n",
    "      for adj in graph[vertex]:\n",
    "        in_edges[adj] += 1\n",
    "\n",
    "  start = -float(\"inf\")\n",
    "  for vertex in vertices:\n",
    "    if in_edges[vertex] < out_edges[vertex]:\n",
    "      start = vertex\n",
    "\n",
    "  current_path, circuit, v = [start], [], start\n",
    "  while len(current_path) > 0:\n",
    "    if out_edges[v]:\n",
    "      current_path.append(v)\n",
    "\n",
    "      nextv = graph[v].pop()\n",
    "      out_edges[v] -= 1\n",
    "      v = nextv\n",
    "    else:\n",
    "      circuit.append(v)\n",
    "      v = current_path.pop()\n",
    "  circuit.reverse()\n",
    "  return circuit\n",
    "  "
   ],
   "outputs": [],
   "metadata": {}
  },
  {
   "cell_type": "code",
   "execution_count": 17,
   "source": [
    "file = \"rosalind_ba3j.txt\" \n",
    "with open(file, 'r') as f:\n",
    "    lines = f.readlines()\n",
    "    k,d = map(int, lines[0].split())\n",
    "    pairs = [line.strip().split('|') for line in  lines[1:]]\n",
    "\n",
    "graph, vertices = get_de_bruijn_graph(pairs)\n",
    "\n",
    "path = get_eulerian_path(graph, vertices)\n",
    "get_reconstruction(path, k, d)"
   ],
   "outputs": [
    {
     "output_type": "execute_result",
     "data": {
      "text/plain": [
       "'ATGCGTTTTGCTCACTCTTACACGTGCTGGGCGTTTCTAACGGGAACAGACGACATCCACACATTTCAACCTAGCCCGTCGTGGAGGCTTACGTGGAGCTTAGTGGTTTCAGTTGGAGGCTTACGGAGGCTTACGTGGAGCTTAGTGGTTTCAGGTGGAGCTTAGTGGTTTCAGAGGAGATACTTGGAGGCTTACGTGGAGGCTTACGTGGAGCTTAGTGGTTTCAGGAGGCTTACGTGGAGCTTAGTGGTTTCAGGGGAGCTTAGTGGTTTCAGCACACGGAGGCTTACGTGGAGCTTAGTGGTTTCAGAATAAACAATCCATTTAGAATACCTCATCGAGATCGACGCGAAGTGGTAGTCAAAACCCTACCGGAGGCTTACGTGGAGCTTAGTGGTTTCAGACGTCCCGTACTTGCCCGGAGGCTTACGTGGAGCTTAGTGGTTTCAGATCCTAGGTTATCACAAGGGTTACGTCGCCTCCGGTGACCCCCCTATCACTCTACCCGCGCCTCGACGCGCTCTATACAGCCGCCTCGTCCGTGCTCTTCTTAATGGTTGGCTTGACCTCATGGGAACGCAGCGTATCACTTATCGAGCGATGATCGTTTCGCGAGCGCCCTCCTCGCTAAAAGGATGACGCTTCGGAGGCTTACGTGGAGCTTAGTGGTTTCAGTCGTCGCTTTAGGATCTATCGCCCGCATGGAAGCCTCGGGACAGCTTAGGGGTCACTAGGAGGCTTACGTGGAGCTTAGTGGTTTCAGCCATATCTTTTCAACGGACTAGCCAGACGCGGCGCGGCTCGTATTACGGGGGAATTTACTGGGAGGCTTACGTGGAGCTTAGTGGTTTCAGGCTGACTTACGCCGAGTTTACTAGGGCCACAGTCCCGTTATGGTCAAACACTTGGCTTCCTGGATGTCAAAGAGGCACTTAAAGGATAGCCAAGTGAGGAGCTAATCGGGATTTTGTCCGGGATTATTTAGGGACTTAGTTACTAAACGGAGGCTTACGTGGAGCTTAGTGGTTTCAGCGTTTTACTATCGTATCGGTCCCCCGCCGAACGTCAGATTAGGCTACTACGTTATTCCGTCTACTCGATACCTGATGATAGTAGTGAATTTGTGAAGCGAGCGATCCTACCGGTCGTATAGCGACCGCCCCATCTCGCGATGCGCGTTATGGGGAGGCTTACGTGGAGCTTAGTGGTTTCAGTGACACTGGCCATCTTAAGGAGGCTTACGTGGAGCTTAGTGGTTTCAGTGGGGTGCAGACAGAGTTAGAACCGAAAAGTTCGATACCCAAGCGATCCTATGTAATAACTTCGGAAAGGCCACCGGTACCCTAGTGAACCCCGTGAAGTTAATTCGACCCCATCCAAATCCAAACACCATATGCACGCCATCCACTCTTTACTTGTATTAATAGTGTACGTACTCCCAGTAAGACAT'"
      ]
     },
     "metadata": {},
     "execution_count": 17
    }
   ],
   "metadata": {}
  }
 ],
 "metadata": {
  "orig_nbformat": 4,
  "language_info": {
   "name": "python",
   "version": "3.9.7",
   "mimetype": "text/x-python",
   "codemirror_mode": {
    "name": "ipython",
    "version": 3
   },
   "pygments_lexer": "ipython3",
   "nbconvert_exporter": "python",
   "file_extension": ".py"
  },
  "kernelspec": {
   "name": "python3",
   "display_name": "Python 3.9.7 64-bit ('base': conda)"
  },
  "interpreter": {
   "hash": "41dad33ac27be026cb602e0a62f760d014741d4939993a4186ae922aa189125a"
  }
 },
 "nbformat": 4,
 "nbformat_minor": 2
}