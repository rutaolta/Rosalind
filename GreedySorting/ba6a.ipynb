{
 "cells": [
  {
   "cell_type": "markdown",
   "source": [
    "# Implement GreedySorting to Sort a Permutation by Reversals \n",
    "\n",
    "[ba6a](https://rosalind.info/problems/ba6a/)\n",
    "\n",
    "## Implement GreedySorting\n",
    "\n",
    "    Given: \n",
    "\n",
    "A signed permutation P.\n",
    "\n",
    "    Return: \n",
    "\n",
    "The sequence of permutations corresponding to applying GreedySorting to P, ending with the identity permutation.\n",
    "\n",
    "    GREEDYSORTING(P)\n",
    "        approxReversalDistance 0\n",
    "        for k 1 to |P|\n",
    "            if element k is not sorted\n",
    "                apply the k-sorting reversal to P\n",
    "                approxReversalDistance approxReversalDistance + 1\n",
    "            if the k-th element of P is k\n",
    "                apply the k-sorting reversal to P\n",
    "                approxReversalDistance approxReversalDistance + 1\n",
    "        return approxReversalDistance"
   ],
   "metadata": {}
  },
  {
   "cell_type": "code",
   "execution_count": 1,
   "source": [
    "def get_reversal(p, i, k):\n",
    "    return p[:i] + [-i for i in p[i:k+1]][::-1] + p[k+1:]"
   ],
   "outputs": [],
   "metadata": {}
  },
  {
   "cell_type": "code",
   "execution_count": 14,
   "source": [
    "def greedy_sorting(permutation):\n",
    "    permutation_sequence = []\n",
    "    i = 0\n",
    "    while i < len(permutation):\n",
    "        if permutation[i] == i+1:\n",
    "            i += 1\n",
    "        else:\n",
    "            permutation = get_reversal(permutation, i, list(map(abs, permutation)).index(i+1))\n",
    "            permutation_sequence.append(permutation)\n",
    "    return permutation_sequence"
   ],
   "outputs": [],
   "metadata": {}
  },
  {
   "cell_type": "code",
   "execution_count": 3,
   "source": [
    "def print_list_to_genome(permutations_list, file):\n",
    "    f = open(file, \"a\")\n",
    "    for permutation in permutations_list:\n",
    "        f.write('('+' '.join(['+'+str(item) if item > 0 else str(item) for item in permutation])+')\\n')\n",
    "    f.close()"
   ],
   "outputs": [],
   "metadata": {}
  },
  {
   "cell_type": "code",
   "execution_count": 4,
   "source": [
    "def genome_str_to_list(genome):\n",
    "    return list(map(int, genome[1:-1].split(' ')))"
   ],
   "outputs": [],
   "metadata": {}
  },
  {
   "cell_type": "code",
   "execution_count": 15,
   "source": [
    "file = \"input.txt\" #rosalind_ba6a\n",
    "with open(file, 'r') as f:\n",
    "    lines = f.readlines()\n",
    "    perm = genome_str_to_list(lines[0])\n",
    "    seq_perm = greedy_sorting(perm)\n",
    "print_list_to_genome(seq_perm,'output.txt')"
   ],
   "outputs": [],
   "metadata": {}
  }
 ],
 "metadata": {
  "orig_nbformat": 4,
  "language_info": {
   "name": "python",
   "version": "3.9.7",
   "mimetype": "text/x-python",
   "codemirror_mode": {
    "name": "ipython",
    "version": 3
   },
   "pygments_lexer": "ipython3",
   "nbconvert_exporter": "python",
   "file_extension": ".py"
  },
  "kernelspec": {
   "name": "python3",
   "display_name": "Python 3.9.7 64-bit ('miniconda3': virtualenv)"
  },
  "interpreter": {
   "hash": "41dad33ac27be026cb602e0a62f760d014741d4939993a4186ae922aa189125a"
  }
 },
 "nbformat": 4,
 "nbformat_minor": 2
}