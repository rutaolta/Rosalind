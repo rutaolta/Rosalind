{
 "cells": [
  {
   "cell_type": "markdown",
   "source": [
    "# Implement the Viterbi Algorithm\n",
    "\n",
    "[ba10c](https://rosalind.info/problems/ba10c/)\n",
    "\n",
    "## Decoding Problem\n",
    "\n",
    "    Given:\n",
    "\n",
    "A string x, followed by the alphabet Σ from which x was constructed, followed by the states States, transition matrix Transition, and emission matrix Emission of an HMM (Σ, States, Transition, Emission).\n",
    "\n",
    "    Return:\n",
    "\n",
    "A path that maximizes the (unconditional) probability Pr(x, π) over all possible paths π."
   ],
   "metadata": {}
  },
  {
   "cell_type": "code",
   "execution_count": 137,
   "source": [
    "import numpy as np"
   ],
   "outputs": [],
   "metadata": {}
  },
  {
   "cell_type": "code",
   "execution_count": 138,
   "source": [
    "def vitebri(observations, states, T, E):\n",
    "    \n",
    "    V = [{state : {\"prob\" : (1 / len(states)) * E[index][observations[0]], \n",
    "                   \"prev\" : None} for index, state in enumerate(states)}]\n",
    "    \n",
    "    for n, n_obs in enumerate(observations[1:]):\n",
    "        V.append({})\n",
    "        for index,state in enumerate(states):\n",
    "            l = [V[n][pstate][\"prob\"] * T[pindex][index] for pindex, pstate in enumerate(states)]\n",
    "            prob = max(l)\n",
    "            prev_st = states[l.index(prob)]\n",
    "            V[n+1][state] = {\"prob\": prob * E[index][n_obs], \"prev\":prev_st}\n",
    "\n",
    "    n = len(observations)\n",
    "    score = -float('inf')\n",
    "    for state in states:\n",
    "        if V[n-1][state][\"prob\"] > score:\n",
    "            last = state\n",
    "            score = V[n-1][state][\"prob\"]\n",
    "    path = [last]\n",
    "\n",
    "    i = n - 1\n",
    "    while i > 0:\n",
    "        next_state = V[i][state][\"prev\"]\n",
    "        path.append(next_state)\n",
    "        state = next_state\n",
    "        i -= 1\n",
    "    return ''.join(reversed(path))        "
   ],
   "outputs": [],
   "metadata": {}
  },
  {
   "cell_type": "code",
   "execution_count": 139,
   "source": [
    "def parse_input(lines):\n",
    "    x = lines[0].strip()\n",
    "    alphabet = lines[2].strip().split()\n",
    "    observations = [int(alphabet.index(i)) for i in x]\n",
    "    states = lines[4].strip().split()\n",
    "    S = len(states)\n",
    "    T = np.array([line.split()[1:] for line in lines[7:7+S]], float)\n",
    "    E = np.array([line.split()[1:] for line in lines[9+S:]], float)\n",
    "    return(observations, states, T, E)"
   ],
   "outputs": [],
   "metadata": {}
  },
  {
   "cell_type": "code",
   "execution_count": 140,
   "source": [
    "with open(\"rosalind_ba10c.txt\") as f:\n",
    "    lines = f.readlines()\n",
    "observations, states, T, E = parse_input(lines)\n",
    "print(vitebri(observations, states, T, E))\n"
   ],
   "outputs": [
    {
     "output_type": "stream",
     "name": "stdout",
     "text": [
      "ABABABABABABABABABABABABABABABABABABABABABABABABABABABABABABABABABABABABABABABABABABABABABABABABABAB\n"
     ]
    }
   ],
   "metadata": {}
  }
 ],
 "metadata": {
  "orig_nbformat": 4,
  "language_info": {
   "name": "python",
   "version": "3.8.10",
   "mimetype": "text/x-python",
   "codemirror_mode": {
    "name": "ipython",
    "version": 3
   },
   "pygments_lexer": "ipython3",
   "nbconvert_exporter": "python",
   "file_extension": ".py"
  },
  "kernelspec": {
   "name": "python3",
   "display_name": "Python 3.8.10 64-bit"
  },
  "interpreter": {
   "hash": "31f2aee4e71d21fbe5cf8b01ff0e069b9275f58929596ceb00d14d90e3e16cd6"
  }
 },
 "nbformat": 4,
 "nbformat_minor": 2
}