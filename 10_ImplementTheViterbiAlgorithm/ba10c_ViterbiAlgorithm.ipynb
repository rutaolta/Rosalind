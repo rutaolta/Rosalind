{
 "cells": [
  {
   "cell_type": "markdown",
   "source": [
    "# Implement the Viterbi Algorithm\n",
    "\n",
    "[ba10c](https://rosalind.info/problems/ba10c/)\n",
    "\n",
    "## Decoding Problem\n",
    "\n",
    "    Given:\n",
    "\n",
    "A string x, followed by the alphabet Σ from which x was constructed, followed by the states States, transition matrix Transition, and emission matrix Emission of an HMM (Σ, States, Transition, Emission).\n",
    "\n",
    "    Return:\n",
    "\n",
    "A path that maximizes the (unconditional) probability Pr(x, π) over all possible paths π."
   ],
   "metadata": {}
  },
  {
   "cell_type": "code",
   "execution_count": 97,
   "source": [
    "import numpy as np"
   ],
   "outputs": [],
   "metadata": {}
  },
  {
   "cell_type": "code",
   "execution_count": 98,
   "source": [
    "def viterbi(x, T, E, initial_distribution, states_cnt):\n",
    "    seq_len = len(x)\n",
    "    omega = np.zeros((seq_len, states_cnt))\n",
    "    omega[0, :] = np.log(initial_distribution * E[:, x[0]])\n",
    "\n",
    "    prev = np.zeros((seq_len - 1, states_cnt))\n",
    "    for t in range(1, seq_len):\n",
    "        for j in range(states_cnt):\n",
    "            probability = omega[t - 1] + np.log(T[:, j]) + np.log(E[j, x[t]])\n",
    "            prev[t - 1, j] = np.argmax(probability)\n",
    "            omega[t, j] = np.max(probability)\n",
    "\n",
    "    S = np.zeros(seq_len)\n",
    "    last_state = np.argmax(omega[seq_len - 1, :])\n",
    "    S[0] = last_state\n",
    "    backtrack_index = 1\n",
    "    for i in range(seq_len - 2, -1, -1):\n",
    "        S[backtrack_index] = prev[i, int(last_state)]\n",
    "        last_state = prev[i, int(last_state)]\n",
    "        backtrack_index += 1\n",
    "\n",
    "    return ''.join(['A' if s == 0 else 'B' for s in reversed(S)]) "
   ],
   "outputs": [],
   "metadata": {}
  },
  {
   "cell_type": "code",
   "execution_count": 99,
   "source": [
    "def parse_input(lines):\n",
    "    x = lines[0].strip()\n",
    "    alphabet = lines[2].strip().split()\n",
    "    observations = np.array([int(alphabet.index(i)) for i in x])\n",
    "    states = lines[4].strip().split()\n",
    "    states_cnt = len(states)\n",
    "    T = np.array([line.split()[1:] for line in lines[7:7 + states_cnt]], float)\n",
    "    E = np.array([line.split()[1:] for line in lines[9 + states_cnt:]], float)\n",
    "    return(observations, T, E, states_cnt)"
   ],
   "outputs": [],
   "metadata": {}
  },
  {
   "cell_type": "code",
   "execution_count": 100,
   "source": [
    "with open(\"rosalind_ba10c.txt\") as f:\n",
    "    lines = f.readlines()\n",
    "observations, T, E, states_cnt = parse_input(lines)\n",
    "initial_distribution = np.array([0.5 for i in range(states_cnt)])\n",
    "print(viterbi(observations, T, E, initial_distribution, states_cnt))\n"
   ],
   "outputs": [
    {
     "output_type": "stream",
     "name": "stdout",
     "text": [
      "ABABABABABABABABABABABABABABABABABABABABABABABABABABABABABABABABABABABABABABABABABABABABABABABABABAB\n"
     ]
    }
   ],
   "metadata": {}
  }
 ],
 "metadata": {
  "orig_nbformat": 4,
  "language_info": {
   "name": "python",
   "version": "3.8.10",
   "mimetype": "text/x-python",
   "codemirror_mode": {
    "name": "ipython",
    "version": 3
   },
   "pygments_lexer": "ipython3",
   "nbconvert_exporter": "python",
   "file_extension": ".py"
  },
  "kernelspec": {
   "name": "python3",
   "display_name": "Python 3.8.10 64-bit"
  },
  "interpreter": {
   "hash": "31f2aee4e71d21fbe5cf8b01ff0e069b9275f58929596ceb00d14d90e3e16cd6"
  }
 },
 "nbformat": 4,
 "nbformat_minor": 2
}