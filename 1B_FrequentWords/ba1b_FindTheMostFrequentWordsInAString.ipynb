{
 "cells": [
  {
   "cell_type": "markdown",
   "metadata": {},
   "source": [
    "# Find the Most Frequent Words in a String\n",
    "\n",
    "[ba1b](https://rosalind.info/problems/ba1b/)\n",
    "\n",
    "We say that Pattern is a most frequent k-mer in Text if it maximizes Count(Text, Pattern) among all k-mers. For example, \"ACTAT\" is a most frequent 5-mer in \"ACAACTATGCATCACTATCGGGAACTATCCT\", and \"ATA\" is a most frequent 3-mer of \"CGATATATCCATAG\".\n",
    "\n",
    "    FREQUENT WORDS(Text, k)\n",
    "        FrequentPatterns <-- an empty set\n",
    "        for i <-- 0 to |Text| k\n",
    "            Pattern <-- the k-mer Text(i, k)\n",
    "            COUNT (i) <-- PATTERNCOUNT (Text, Pattern)\n",
    "        maxCount <-- maximum value in array COUNT\n",
    "        for i <-- 0 to |Text| k\n",
    "            if COUNT (i) = maxCount\n",
    "                add Text(i, k) to FrequentPatterns\n",
    "        remove duplicates from FrequentPatterns\n",
    "        return FrequentPatterns\n",
    "\n",
    "### Frequent Words Problem\n",
    "\n",
    "Find the most frequent k-mers in a string.\n",
    "\n",
    "    Given: \n",
    "\n",
    "A DNA string Text and an integer k.\n",
    "\n",
    "    Return: \n",
    "\n",
    "All most frequent k-mers in Text (in any order).\n",
    "\n",
    "Sample Dataset\n",
    "\n",
    "    ACGTTGCATGTCGCATGATGCATGAGAGCT\n",
    "    4\n",
    "\n",
    "Sample Output\n",
    "\n",
    "    CATG GCAT"
   ]
  },
  {
   "cell_type": "code",
   "execution_count": 6,
   "metadata": {},
   "outputs": [],
   "source": [
    "from collections import defaultdict\n",
    "from sys import path\n",
    "path.append(\"../\")\n",
    "import common"
   ]
  },
  {
   "cell_type": "code",
   "execution_count": 7,
   "metadata": {},
   "outputs": [],
   "source": [
    "def get_frequent_words(dna, k):\n",
    "    max_count = 0\n",
    "    res = defaultdict(int)\n",
    "    for i in range(len(dna) - k + 1):\n",
    "        res[dna[i:i+k]] += 1\n",
    "        if max_count < res[dna[i:i+k]]:\n",
    "            max_count = res[dna[i:i+k]]\n",
    "    \n",
    "    return ' '.join([key  for (key, value) in res.items() if value == max_count])"
   ]
  },
  {
   "cell_type": "code",
   "execution_count": 8,
   "metadata": {},
   "outputs": [],
   "source": [
    "def get_faster_frequent_words(dna, k):\n",
    "    freq_patterns = set()\n",
    "    freq_array = common.compute_frequencies(dna, k)\n",
    "    max_count = max(freq_array)\n",
    "    for i in range(4**k):\n",
    "        if freq_array[i] == max_count:\n",
    "            freq_patterns.add(common.number_to_pattern(i, k))\n",
    "    return ' '.join(freq_patterns)"
   ]
  },
  {
   "cell_type": "code",
   "execution_count": 9,
   "metadata": {},
   "outputs": [],
   "source": [
    "def get_faster_frequent_words_by_sorting(dna, k):\n",
    "    freq_patterns = set()\n",
    "    index = sorted([common.pattern_to_number(dna[i:i+k]) for i in range(len(dna) - k + 1)])\n",
    "    count = [1] * (len(dna) - k + 1)\n",
    "    for i in range(1, len(dna) - k + 1):\n",
    "        if index[i] == index[i-1]:\n",
    "            count[i] = count[i-1] + 1\n",
    "    max_count = max(count)\n",
    "    for i in range(len(dna) - k + 1):\n",
    "        if count[i] == max_count:\n",
    "            freq_patterns.add(common.number_to_pattern(index[i], k))\n",
    "    return ' '.join(freq_patterns)"
   ]
  },
  {
   "cell_type": "code",
   "execution_count": 10,
   "metadata": {},
   "outputs": [
    {
     "name": "stdout",
     "output_type": "stream",
     "text": [
      "TCGCATGACAT\n",
      "TCGCATGACAT\n",
      "TCGCATGACAT\n"
     ]
    }
   ],
   "source": [
    "file = \"rosalind_ba1b.txt\" \n",
    "# file = \"input.txt\" \n",
    "with open(file, 'r') as f:\n",
    "    lines = f.readlines()\n",
    "    dna, k = lines[0].strip(), int(lines[1])\n",
    "\n",
    "print(get_frequent_words(dna, k)) # not optimal solution\n",
    "print(get_faster_frequent_words(dna, k)) # optimal solution for certain values of dna and small k\n",
    "print(get_faster_frequent_words_by_sorting(dna, k)) # optimal solution for certain values of dna and large k"
   ]
  }
 ],
 "metadata": {
  "interpreter": {
   "hash": "916dbcbb3f70747c44a77c7bcd40155683ae19c65e1c03b4aa3499c5328201f1"
  },
  "kernelspec": {
   "display_name": "Python 3.9.7 64-bit",
   "language": "python",
   "name": "python3"
  },
  "language_info": {
   "codemirror_mode": {
    "name": "ipython",
    "version": 3
   },
   "file_extension": ".py",
   "mimetype": "text/x-python",
   "name": "python",
   "nbconvert_exporter": "python",
   "pygments_lexer": "ipython3",
   "version": "3.8.10"
  },
  "orig_nbformat": 4
 },
 "nbformat": 4,
 "nbformat_minor": 2
}
