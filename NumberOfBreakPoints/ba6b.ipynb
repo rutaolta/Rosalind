{
 "cells": [
  {
   "cell_type": "markdown",
   "source": [
    "# Compute the Number of Breakpoints in a Permutation\n",
    "\n",
    "[ba6b](https://rosalind.info/problems/ba6b/)\n",
    "\n",
    "## Number of Breakpoints Problem\n",
    "\n",
    "Find the number of breakpoints in a permutation.\n",
    "\n",
    "    Given:\n",
    "\n",
    "A signed permutation P.\n",
    "\n",
    "    Return:\n",
    "\n",
    "The number of breakpoints in P."
   ],
   "metadata": {}
  },
  {
   "cell_type": "code",
   "execution_count": 11,
   "source": [
    "def number_of_breakpoints(p):\n",
    "    m = len(p)\n",
    "    adjacent = 0\n",
    "    p = [0] + p + [m + 1]\n",
    "    for i in range(0, m - 1):\n",
    "        if (p[i + 1]==p[i] + 1):\n",
    "            adjacent += 1\n",
    "    return m - 1 - adjacent"
   ],
   "outputs": [],
   "metadata": {}
  },
  {
   "cell_type": "code",
   "execution_count": 12,
   "source": [
    "def genome_str_to_list(genome):\n",
    "    return list(map(int, genome.split(' ')))"
   ],
   "outputs": [],
   "metadata": {}
  },
  {
   "cell_type": "code",
   "execution_count": 13,
   "source": [
    "file = \"rosalind_ba6b.txt\"\n",
    "with open(file, 'r') as f:\n",
    "    lines = f.readlines()\n",
    "    perm = genome_str_to_list(lines[0][1:-1])\n",
    "number_of_breakpoints(perm)"
   ],
   "outputs": [
    {
     "output_type": "execute_result",
     "data": {
      "text/plain": [
       "97"
      ]
     },
     "metadata": {},
     "execution_count": 13
    }
   ],
   "metadata": {}
  }
 ],
 "metadata": {
  "orig_nbformat": 4,
  "language_info": {
   "name": "python",
   "version": "3.9.7",
   "mimetype": "text/x-python",
   "codemirror_mode": {
    "name": "ipython",
    "version": 3
   },
   "pygments_lexer": "ipython3",
   "nbconvert_exporter": "python",
   "file_extension": ".py"
  },
  "kernelspec": {
   "name": "python3",
   "display_name": "Python 3.9.7 64-bit ('miniconda3': virtualenv)"
  },
  "interpreter": {
   "hash": "41dad33ac27be026cb602e0a62f760d014741d4939993a4186ae922aa189125a"
  }
 },
 "nbformat": 4,
 "nbformat_minor": 2
}