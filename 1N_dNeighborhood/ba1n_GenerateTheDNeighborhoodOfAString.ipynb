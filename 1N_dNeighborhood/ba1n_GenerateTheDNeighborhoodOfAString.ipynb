{
 "cells": [
  {
   "cell_type": "markdown",
   "metadata": {},
   "source": [
    "# Generate the d-Neighborhood of a String\n",
    "\n",
    "[ba1n](https://rosalind.info/problems/ba1n/)\n",
    "\n",
    "The d-neighborhood Neighbors(Pattern, d) is the set of all k-mers whose Hamming distance from Pattern does not exceed d.\n",
    "\n",
    "### Generate the d-Neighborhood of a String\n",
    "\n",
    "Find all the neighbors of a pattern.\n",
    "\n",
    "    Given: \n",
    "\n",
    "A DNA string Pattern and an integer d.\n",
    "\n",
    "    Return: \n",
    "\n",
    "The collection of strings Neighbors(Pattern, d).\n",
    "\n",
    "Sample Dataset\n",
    "\n",
    "    ACG\n",
    "    1\n",
    "\n",
    "Sample Output\n",
    "\n",
    "    CCG\n",
    "    TCG\n",
    "    GCG\n",
    "    AAG\n",
    "    ATG\n",
    "    AGG\n",
    "    ACA\n",
    "    ACC\n",
    "    ACT\n",
    "    ACG"
   ]
  },
  {
   "cell_type": "code",
   "execution_count": 48,
   "metadata": {},
   "outputs": [],
   "source": [
    "from sys import path\n",
    "path.append(\"../\")\n",
    "from common import get_hamming_distance"
   ]
  },
  {
   "cell_type": "code",
   "execution_count": 50,
   "metadata": {},
   "outputs": [],
   "source": [
    "def get_immediate_neighbors(dna, d):\n",
    "    neighborhood = set()\n",
    "    for i in range(len(dna)):\n",
    "        symbol = dna[i]\n",
    "        for nucleotide in 'ACGT'.replace(symbol,''):\n",
    "            neighbor = dna[:i] + nucleotide + dna[i+1:]\n",
    "            if get_hamming_distance(neighbor, dna) <= d:\n",
    "                neighborhood.add(neighbor)\n",
    "    neighborhood.add(dna)\n",
    "    return '\\n'.join(neighborhood)"
   ]
  },
  {
   "cell_type": "code",
   "execution_count": 51,
   "metadata": {},
   "outputs": [
    {
     "name": "stdout",
     "output_type": "stream",
     "text": [
      "GCCAAGCTATCG\n",
      "GCCCAGCCATCG\n",
      "GCCCAGCTATCT\n",
      "GCCCAACTATCG\n",
      "GCCCAGTTATCG\n",
      "GCCCACCTATCG\n",
      "GGCCAGCTATCG\n",
      "GCGCAGCTATCG\n",
      "GCCCAGCTATAG\n",
      "GCCCAGCTATCA\n",
      "GCCCAGCTATCG\n",
      "GCCTAGCTATCG\n",
      "ACCCAGCTATCG\n",
      "GCTCAGCTATCG\n",
      "GCCCAGCAATCG\n",
      "GCCCAGGTATCG\n",
      "GCCCAGCTGTCG\n",
      "GCCCAGCTACCG\n",
      "GACCAGCTATCG\n",
      "GCCCTGCTATCG\n",
      "GTCCAGCTATCG\n",
      "GCCCAGCTATGG\n",
      "GCCCAGATATCG\n",
      "GCCCAGCTCTCG\n",
      "GCCCCGCTATCG\n",
      "TCCCAGCTATCG\n",
      "CCCCAGCTATCG\n",
      "GCCCAGCGATCG\n",
      "GCCGAGCTATCG\n",
      "GCCCGGCTATCG\n",
      "GCCCAGCTAGCG\n",
      "GCCCAGCTTTCG\n",
      "GCACAGCTATCG\n",
      "GCCCAGCTAACG\n",
      "GCCCATCTATCG\n",
      "GCCCAGCTATTG\n",
      "GCCCAGCTATCC\n"
     ]
    }
   ],
   "source": [
    "file = \"rosalind_ba1n.txt\" \n",
    "# file = \"input.txt\" \n",
    "with open(file, 'r') as f:\n",
    "    lines = f.readlines()\n",
    "    dna, d = lines[0].strip(), int(lines[1])\n",
    "\n",
    "print(get_immediate_neighbors(dna, d))"
   ]
  }
 ],
 "metadata": {
  "interpreter": {
   "hash": "916dbcbb3f70747c44a77c7bcd40155683ae19c65e1c03b4aa3499c5328201f1"
  },
  "kernelspec": {
   "display_name": "Python 3.9.7 64-bit",
   "language": "python",
   "name": "python3"
  },
  "language_info": {
   "codemirror_mode": {
    "name": "ipython",
    "version": 3
   },
   "file_extension": ".py",
   "mimetype": "text/x-python",
   "name": "python",
   "nbconvert_exporter": "python",
   "pygments_lexer": "ipython3",
   "version": "3.8.10"
  },
  "orig_nbformat": 4
 },
 "nbformat": 4,
 "nbformat_minor": 2
}
