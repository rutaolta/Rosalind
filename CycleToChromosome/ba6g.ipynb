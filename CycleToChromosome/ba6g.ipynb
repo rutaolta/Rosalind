{
 "cells": [
  {
   "cell_type": "markdown",
   "source": [
    "# Implement CycleToChromosome\n",
    "\n",
    "[ba6g](https://rosalind.info/problems/ba6g/)\n",
    "\n",
    "The process described in “Implement ChromosomeToCycle” is in fact invertible, as described by the following pseudocode.\n",
    "\n",
    "    CycleToChromosome(Nodes)\n",
    "        for j ← 1 to |Nodes|/2\n",
    "            if Node2j−1 < Node2j\n",
    "                Chromosomej ← Node2j /2\n",
    "            else\n",
    "                Chromosomej ← −Node2j−1/2\n",
    "        return Chromosome"
   ],
   "metadata": {}
  },
  {
   "cell_type": "code",
   "execution_count": 19,
   "source": [
    "def cycle_to_chromosome(nodes):\n",
    "    p = []\n",
    "    for j in range(0, len(nodes)//2):\n",
    "        if nodes[2 * j] < nodes[2 * j+1]:\n",
    "            chrm = j + 1\n",
    "        else:\n",
    "            chrm = -(j + 1)\n",
    "        p.append(chrm)\n",
    "    return p"
   ],
   "outputs": [],
   "metadata": {}
  },
  {
   "cell_type": "code",
   "execution_count": 20,
   "source": [
    "def genome_str_to_list(genome):\n",
    "    return list(map(int, genome.split(' ')))"
   ],
   "outputs": [],
   "metadata": {}
  },
  {
   "cell_type": "code",
   "execution_count": 21,
   "source": [
    "# file = \"input.txt\"\n",
    "file = \"rosalind_ba6g.txt\"\n",
    "with open(file, 'r') as f:\n",
    "    lines = f.read().splitlines()\n",
    "nodes = genome_str_to_list(lines[0][1:-1])\n",
    "print('(' + ' '.join(['+' + str(chrm) if chrm > 0 else str(chrm) for chrm in cycle_to_chromosome(nodes)]) + ')')"
   ],
   "outputs": [
    {
     "output_type": "stream",
     "name": "stdout",
     "text": [
      "(+1 -2 +3 +4 +5 +6 +7 -8 -9 +10 +11 +12 -13 +14 +15 -16 +17 -18 -19 -20 +21 +22 -23 -24 +25 +26 -27 -28 -29 -30 -31 +32 -33 -34 -35 +36 +37 -38 +39 +40 +41 +42 +43 +44 +45 -46 -47 +48 -49 +50 -51 +52 +53 -54 +55 +56 -57 +58 +59 -60 -61 +62 +63 +64 +65 +66 -67 -68)\n"
     ]
    }
   ],
   "metadata": {}
  }
 ],
 "metadata": {
  "orig_nbformat": 4,
  "language_info": {
   "name": "python",
   "version": "3.8.10",
   "mimetype": "text/x-python",
   "codemirror_mode": {
    "name": "ipython",
    "version": 3
   },
   "pygments_lexer": "ipython3",
   "nbconvert_exporter": "python",
   "file_extension": ".py"
  },
  "kernelspec": {
   "name": "python3",
   "display_name": "Python 3.8.10 64-bit"
  },
  "interpreter": {
   "hash": "31f2aee4e71d21fbe5cf8b01ff0e069b9275f58929596ceb00d14d90e3e16cd6"
  }
 },
 "nbformat": 4,
 "nbformat_minor": 2
}