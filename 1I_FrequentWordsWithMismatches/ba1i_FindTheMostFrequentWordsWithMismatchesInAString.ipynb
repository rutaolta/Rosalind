{
 "cells": [
  {
   "cell_type": "markdown",
   "metadata": {},
   "source": [
    "# Find the Most Frequent Words with Mismatches in a String\n",
    "\n",
    "[ba1i](https://rosalind.info/problems/ba1i/)\n",
    "\n",
    "We defined a mismatch in “Compute the Hamming Distance Between Two Strings”. We now generalize “Find the Most Frequent Words in a String” to incorporate mismatches as well.\n",
    "\n",
    "Given strings Text and Pattern as well as an integer d, we define Countd(Text, Pattern) as the total number of occurrences of Pattern in Text with at most d mismatches. For example, Count1(AACAAGCTGATAAACATTTAAAGAG, AAAAA) = 4 because AAAAA appears four times in this string with at most one mismatch: AACAA, ATAAA, AAACA, and AAAGA. Note that two of these occurrences overlap.\n",
    "\n",
    "A most frequent k-mer with up to d mismatches in Text is simply a string Pattern maximizing Countd(Text, Pattern) among all k-mers. Note that Pattern does not need to actually appear as a substring of Text; for example, AAAAA is the most frequent 5-mer with 1 mismatch in AACAAGCTGATAAACATTTAAAGAG, even though AAAAA does not appear exactly in this string. Keep this in mind while solving the following problem.\n",
    "\n",
    "### Frequent Words with Mismatches Problem\n",
    "\n",
    "Find the most frequent k-mers with mismatches in a string.\n",
    "\n",
    "    Given: \n",
    "\n",
    "A string Text as well as integers k and d.\n",
    "\n",
    "    Return: \n",
    "\n",
    "All most frequent k-mers with up to d mismatches in Text.\n",
    "\n",
    "Sample Dataset\n",
    "\n",
    "    ACGTTGCATGTCGCATGATGCATGAGAGCT\n",
    "    4 1\n",
    "\n",
    "Sample Output\n",
    "\n",
    "    GATG ATGC ATGT"
   ]
  },
  {
   "cell_type": "code",
   "execution_count": 80,
   "metadata": {},
   "outputs": [],
   "source": [
    "from itertools import product"
   ]
  },
  {
   "cell_type": "code",
   "execution_count": 81,
   "metadata": {},
   "outputs": [],
   "source": [
    "def get_hamming_distance(dna1, dna2):\n",
    "    return sum([x != y for x, y in zip(dna1, dna2)])"
   ]
  },
  {
   "cell_type": "code",
   "execution_count": 82,
   "metadata": {},
   "outputs": [],
   "source": [
    "def get_frequent_words(dna, k, d):\n",
    "    kmers = {''.join(kmer):0 for kmer in product('ACGT', repeat = k)} \n",
    "    max_count = 0\n",
    "    for i in range(len(dna) - k + 1):\n",
    "        for kmer in kmers.keys():\n",
    "            if get_hamming_distance(dna[i:i+k], kmer) <= d:\n",
    "                kmers[kmer] += 1\n",
    "                if max_count < kmers[kmer]:\n",
    "                    max_count = kmers[kmer]\n",
    "    \n",
    "    return ' '.join([key for (key, value) in kmers.items() if value == max_count])"
   ]
  },
  {
   "cell_type": "code",
   "execution_count": 83,
   "metadata": {},
   "outputs": [],
   "source": [
    "def symbol_to_number(symbol):\n",
    "    symbols = {'A': 0, 'C': 1, 'G': 2, 'T': 3}\n",
    "    return symbols[symbol]"
   ]
  },
  {
   "cell_type": "code",
   "execution_count": 84,
   "metadata": {},
   "outputs": [],
   "source": [
    "def number_to_symbol(number):\n",
    "    return 'ACGT'[number]"
   ]
  },
  {
   "cell_type": "code",
   "execution_count": 85,
   "metadata": {},
   "outputs": [],
   "source": [
    "def pattern_to_number(pattern):\n",
    "    if len(pattern) == 0:\n",
    "        return 0\n",
    "    return 4 * pattern_to_number(pattern[:-1]) + symbol_to_number(pattern[-1])"
   ]
  },
  {
   "cell_type": "code",
   "execution_count": 86,
   "metadata": {},
   "outputs": [],
   "source": [
    "def get_quotient(index):\n",
    "    return index // 4"
   ]
  },
  {
   "cell_type": "code",
   "execution_count": 87,
   "metadata": {},
   "outputs": [],
   "source": [
    "def get_remainder(index):\n",
    "    return index % 4"
   ]
  },
  {
   "cell_type": "code",
   "execution_count": 88,
   "metadata": {},
   "outputs": [],
   "source": [
    "def number_to_pattern(index, k):\n",
    "    if k == 1:\n",
    "        return number_to_symbol(index)\n",
    "    prefix_index = get_quotient(index) \n",
    "    symbol = number_to_symbol(get_remainder(index))\n",
    "    prefix_pattern = number_to_pattern(prefix_index, k-1)\n",
    "    return prefix_pattern + symbol"
   ]
  },
  {
   "cell_type": "code",
   "execution_count": 89,
   "metadata": {},
   "outputs": [],
   "source": [
    "def get_neighbors(dna, d):\n",
    "    if d == 0:\n",
    "        return {dna}\n",
    "    if len(dna) == 1:\n",
    "        return {'A','C','G','T'}\n",
    "    neighborhood = set()\n",
    "    suffix_neighbors = get_neighbors(dna[1:], d)\n",
    "    for pattern in suffix_neighbors:\n",
    "        if get_hamming_distance(dna[1:], pattern) < d:\n",
    "            for nucleotide in pattern:\n",
    "                neighborhood.add(nucleotide+pattern)\n",
    "        else:\n",
    "            neighborhood.add(dna[1]+pattern)\n",
    "    return neighborhood"
   ]
  },
  {
   "cell_type": "code",
   "execution_count": 90,
   "metadata": {},
   "outputs": [],
   "source": [
    "def get_approximate_pattern_count(seq, pattern, d):\n",
    "    count = 0\n",
    "    for i in range(len(seq) - len(pattern) + 1):\n",
    "        if get_hamming_distance(pattern, seq[i: i + len(pattern)]) <= d:\n",
    "            count += 1 \n",
    "    return count"
   ]
  },
  {
   "cell_type": "code",
   "execution_count": 93,
   "metadata": {},
   "outputs": [],
   "source": [
    "def get_faster_frequent_words(dna, k, d):\n",
    "    freq_patterns = set()\n",
    "    freq_array = [0] * 4**k\n",
    "    close = [0] * 4**k\n",
    "    for i in range(len(dna) - k + 1):\n",
    "        neighborhood = get_neighbors(dna[i:i+k], d)\n",
    "        for pattern in neighborhood:\n",
    "            index = pattern_to_number(pattern)\n",
    "            close[index] = 1\n",
    "    for i in range(4**k):\n",
    "        if close[i] == 1:\n",
    "            pattern = number_to_pattern(i, k)\n",
    "            freq_array[i] = get_approximate_pattern_count(dna, pattern, d)\n",
    "    max_count = max(freq_array)\n",
    "    for i in range(4**k):\n",
    "        if freq_array[i] == max_count:\n",
    "            pattern = number_to_pattern(i, k)\n",
    "            freq_patterns.add(pattern)\n",
    "    return ' '.join(freq_patterns)"
   ]
  },
  {
   "cell_type": "code",
   "execution_count": 94,
   "metadata": {},
   "outputs": [
    {
     "name": "stdout",
     "output_type": "stream",
     "text": [
      "ATGC ATGT GATG\n",
      "GATG ATGT ATGC\n"
     ]
    }
   ],
   "source": [
    "# file = \"rosalind_ba1i.txt\" \n",
    "file = \"input.txt\" \n",
    "with open(file, 'r') as f:\n",
    "    lines = f.readlines()\n",
    "    dna  = lines[0].strip()\n",
    "    k, d = map(int, lines[1].split())\n",
    "\n",
    "print(get_frequent_words(dna, k, d))\n",
    "print(get_faster_frequent_words(dna, k, d))"
   ]
  }
 ],
 "metadata": {
  "interpreter": {
   "hash": "916dbcbb3f70747c44a77c7bcd40155683ae19c65e1c03b4aa3499c5328201f1"
  },
  "kernelspec": {
   "display_name": "Python 3.9.7 64-bit",
   "language": "python",
   "name": "python3"
  },
  "language_info": {
   "codemirror_mode": {
    "name": "ipython",
    "version": 3
   },
   "file_extension": ".py",
   "mimetype": "text/x-python",
   "name": "python",
   "nbconvert_exporter": "python",
   "pygments_lexer": "ipython3",
   "version": "3.8.10"
  },
  "orig_nbformat": 4
 },
 "nbformat": 4,
 "nbformat_minor": 2
}
