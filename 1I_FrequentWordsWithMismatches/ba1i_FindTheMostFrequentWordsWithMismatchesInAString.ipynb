{
 "cells": [
  {
   "cell_type": "markdown",
   "metadata": {},
   "source": [
    "# Find the Most Frequent Words with Mismatches in a String\n",
    "\n",
    "[ba1i](https://rosalind.info/problems/ba1i/)\n",
    "\n",
    "We defined a mismatch in “Compute the Hamming Distance Between Two Strings”. We now generalize “Find the Most Frequent Words in a String” to incorporate mismatches as well.\n",
    "\n",
    "Given strings Text and Pattern as well as an integer d, we define Countd(Text, Pattern) as the total number of occurrences of Pattern in Text with at most d mismatches. For example, Count1(AACAAGCTGATAAACATTTAAAGAG, AAAAA) = 4 because AAAAA appears four times in this string with at most one mismatch: AACAA, ATAAA, AAACA, and AAAGA. Note that two of these occurrences overlap.\n",
    "\n",
    "A most frequent k-mer with up to d mismatches in Text is simply a string Pattern maximizing Countd(Text, Pattern) among all k-mers. Note that Pattern does not need to actually appear as a substring of Text; for example, AAAAA is the most frequent 5-mer with 1 mismatch in AACAAGCTGATAAACATTTAAAGAG, even though AAAAA does not appear exactly in this string. Keep this in mind while solving the following problem.\n",
    "\n",
    "### Frequent Words with Mismatches Problem\n",
    "\n",
    "Find the most frequent k-mers with mismatches in a string.\n",
    "\n",
    "    Given: \n",
    "\n",
    "A string Text as well as integers k and d.\n",
    "\n",
    "    Return: \n",
    "\n",
    "All most frequent k-mers with up to d mismatches in Text.\n",
    "\n",
    "Sample Dataset\n",
    "\n",
    "    ACGTTGCATGTCGCATGATGCATGAGAGCT\n",
    "    4 1\n",
    "\n",
    "Sample Output\n",
    "\n",
    "    GATG ATGC ATGT"
   ]
  },
  {
   "cell_type": "code",
   "execution_count": 58,
   "metadata": {},
   "outputs": [],
   "source": [
    "from itertools import product\n",
    "import sys\n",
    "sys.path.append(\"../\")\n",
    "import common"
   ]
  },
  {
   "cell_type": "code",
   "execution_count": 59,
   "metadata": {},
   "outputs": [],
   "source": [
    "def get_frequent_words(dna, k, d):\n",
    "    kmers = {''.join(kmer):0 for kmer in product('ACGT', repeat = k)} \n",
    "    max_count = 0\n",
    "    for i in range(len(dna) - k + 1):\n",
    "        for kmer in kmers.keys():\n",
    "            if common.get_hamming_distance(dna[i:i+k], kmer) <= d:\n",
    "                kmers[kmer] += 1\n",
    "                if max_count < kmers[kmer]:\n",
    "                    max_count = kmers[kmer]\n",
    "    \n",
    "    return ' '.join([key for (key, value) in kmers.items() if value == max_count])"
   ]
  },
  {
   "cell_type": "code",
   "execution_count": 60,
   "metadata": {},
   "outputs": [],
   "source": [
    "def get_faster_frequent_words(dna, k, d):\n",
    "    freq_patterns = set()\n",
    "    freq_array = [0] * 4**k\n",
    "    close = [0] * 4**k\n",
    "    for i in range(len(dna) - k + 1):\n",
    "        neighborhood = common.get_neighbors(dna[i:i+k], d)\n",
    "        for pattern in neighborhood:\n",
    "            index = common.pattern_to_number(pattern)\n",
    "            close[index] = 1\n",
    "    for i in range(4**k):\n",
    "        if close[i] == 1:\n",
    "            pattern = common.number_to_pattern(i, k)\n",
    "            freq_array[i] = common.get_approximate_pattern_count(dna, pattern, d)\n",
    "    max_count = max(freq_array)\n",
    "    for i in range(4**k):\n",
    "        if freq_array[i] == max_count:\n",
    "            pattern = common.number_to_pattern(i, k)\n",
    "            freq_patterns.add(pattern)\n",
    "    return ' '.join(freq_patterns)"
   ]
  },
  {
   "cell_type": "code",
   "execution_count": 61,
   "metadata": {},
   "outputs": [],
   "source": [
    "def get_faster_frequent_words_by_sorting(dna, k, d):\n",
    "    freq_patterns = set()\n",
    "    neighborhood = []\n",
    "    \n",
    "    for i in range(0, len(dna) - k + 1):\n",
    "        neighborhood.append(common.get_immediate_neighbors(dna[i:i+k], d))\n",
    "    \n",
    "    neighborhood_array = [item for sublist in neighborhood for item in sublist]\n",
    "    \n",
    "    index = sorted([common.pattern_to_number(pattern) for pattern in neighborhood_array])\n",
    "    count = [1] * (len(neighborhood_array))\n",
    "\n",
    "    for i in range(len(neighborhood_array) - 1):\n",
    "        if index[i] == index[i+1]:\n",
    "            count[i+1] = count[i] + 1\n",
    "    \n",
    "    max_count = max(count)\n",
    "\n",
    "    for i in range(len(neighborhood_array)):\n",
    "        if count[i] == max_count:\n",
    "            pattern = common.number_to_pattern(index[i], k)\n",
    "            freq_patterns.add(pattern)\n",
    "    \n",
    "    return ' '.join(freq_patterns)"
   ]
  },
  {
   "cell_type": "code",
   "execution_count": 62,
   "metadata": {},
   "outputs": [
    {
     "name": "stdout",
     "output_type": "stream",
     "text": [
      "ATGC ATGT GATG\n",
      "ATGT ATGC GATG\n",
      "ATGT ATGC GATG\n"
     ]
    }
   ],
   "source": [
    "# file = \"rosalind_ba1i.txt\" \n",
    "file = \"input.txt\" \n",
    "with open(file, 'r') as f:\n",
    "    lines = f.readlines()\n",
    "    dna  = lines[0].strip()\n",
    "    k, d = map(int, lines[1].split())\n",
    "\n",
    "print(get_frequent_words(dna, k, d))\n",
    "print(get_faster_frequent_words(dna, k, d)) # more efficient approach on real data\n",
    "print(get_faster_frequent_words_by_sorting(dna, k, d))"
   ]
  }
 ],
 "metadata": {
  "interpreter": {
   "hash": "916dbcbb3f70747c44a77c7bcd40155683ae19c65e1c03b4aa3499c5328201f1"
  },
  "kernelspec": {
   "display_name": "Python 3.9.7 64-bit",
   "language": "python",
   "name": "python3"
  },
  "language_info": {
   "codemirror_mode": {
    "name": "ipython",
    "version": 3
   },
   "file_extension": ".py",
   "mimetype": "text/x-python",
   "name": "python",
   "nbconvert_exporter": "python",
   "pygments_lexer": "ipython3",
   "version": "3.8.10"
  },
  "orig_nbformat": 4
 },
 "nbformat": 4,
 "nbformat_minor": 2
}
