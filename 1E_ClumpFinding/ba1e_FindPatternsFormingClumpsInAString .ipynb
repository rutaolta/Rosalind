{
 "cells": [
  {
   "cell_type": "markdown",
   "metadata": {},
   "source": [
    "# Find Patterns Forming Clumps in a String\n",
    "\n",
    "[ba1e](https://rosalind.info/problems/ba1e/)\n",
    "\n",
    "Given integers L and t, a string Pattern forms an (L, t)-clump inside a (larger) string Genome if there is an interval of Genome of length L in which Pattern appears at least t times. For example, TGCA forms a (25,3)-clump in the following Genome: gatcagcataagggtcccTGCAATGCATGACAAGCCTGCAgttgttttac.\n",
    "\n",
    "### Clump Finding Problem\n",
    "\n",
    "Find patterns forming clumps in a string.\n",
    "\n",
    "    Given: \n",
    "\n",
    "A string Genome, and integers k, L, and t.\n",
    "\n",
    "    Return: \n",
    "\n",
    "All distinct k-mers forming (L, t)-clumps in Genome.\n",
    "\n",
    "Sample Dataset\n",
    "\n",
    "    CGGACTCGACAGATGTGAAGAAATGTGAAGACTGAGTGAAGAGAAGAGGAAACACGACACGACATTGCGACATAATGTACGAATGTAATGTGCCTATGGC\n",
    "    5 75 4\n",
    "\n",
    "Sample Output\n",
    "\n",
    "    CGACA GAAGA AATGT"
   ]
  },
  {
   "cell_type": "code",
   "execution_count": 7,
   "metadata": {},
   "outputs": [],
   "source": [
    "from collections import defaultdict\n",
    "from sys import path\n",
    "path.append(\"../\")\n",
    "import common"
   ]
  },
  {
   "cell_type": "code",
   "execution_count": 8,
   "metadata": {},
   "outputs": [],
   "source": [
    "def get_frequent_words(seq, k, t):\n",
    "    clumps = set()\n",
    "    kmers = defaultdict(int)\n",
    "    for i in range(len(seq) - k + 1):\n",
    "        kmers[seq[i:i+k]] += 1\n",
    "        if kmers[seq[i:i+k]] >= t:\n",
    "            clumps.add(seq[i:i+k])\n",
    "    \n",
    "    return clumps"
   ]
  },
  {
   "cell_type": "code",
   "execution_count": 9,
   "metadata": {},
   "outputs": [],
   "source": [
    "def get_clumps(dna, k, L, t):\n",
    "    clumps = set()\n",
    "    for i in range(len(dna) - L + 1):\n",
    "        clumps.update(get_frequent_words(dna[i:i+L], k, t))\n",
    "    return clumps"
   ]
  },
  {
   "cell_type": "code",
   "execution_count": 10,
   "metadata": {},
   "outputs": [],
   "source": [
    "def get_faster_clumps(dna, k, L, t):\n",
    "    freq_patterns = set()\n",
    "    clump = [0] * 4**k\n",
    "\n",
    "    for i in range(len(dna) - L + 1):\n",
    "        pattern = dna[i:i+L]\n",
    "        freq_array = common.compute_frequencies(pattern, k)\n",
    "        for index in range(4**k):\n",
    "            if freq_array[index] >= t:\n",
    "                clump[index] = 1\n",
    "    for i in range(4**k):\n",
    "        if clump[i] == 1:\n",
    "            freq_patterns.add(common.number_to_pattern(i, k))\n",
    "\n",
    "    return freq_patterns"
   ]
  },
  {
   "cell_type": "code",
   "execution_count": 11,
   "metadata": {},
   "outputs": [],
   "source": [
    "def get_better_faster_clumps(dna, k, L, t):\n",
    "    freq_patterns = set()\n",
    "    clump = [0] * 4**k\n",
    "\n",
    "    pattern = dna[0:L+1]\n",
    "    freq_array = common.compute_frequencies(pattern, k)\n",
    "    for i in range(4**k):\n",
    "        if freq_array[i] >= t:\n",
    "            clump[i] = 1\n",
    "    \n",
    "    for i in range(1,len(dna) - L + 1):\n",
    "        first_pattern = dna[i-1:i-1+k]\n",
    "        index = common.pattern_to_number(first_pattern)\n",
    "        freq_array[index] = freq_array[index] - 1\n",
    "        last_pattern = dna[i+L-k:i+L]\n",
    "        index = common.pattern_to_number(last_pattern)\n",
    "        freq_array[index] = freq_array[index] + 1\n",
    "        if freq_array[index] >= t:\n",
    "            clump[index] = 1\n",
    "\n",
    "    for i in range(4**k):\n",
    "        if clump[i] == 1:\n",
    "            freq_patterns.add(common.number_to_pattern(i, k))\n",
    "\n",
    "    return freq_patterns"
   ]
  },
  {
   "cell_type": "code",
   "execution_count": 12,
   "metadata": {},
   "outputs": [
    {
     "name": "stdout",
     "output_type": "stream",
     "text": [
      "CTATTATTGC GAGTTACATG TAACAACCTC GAACGCCAGG CCGGTACTGT CTTCAAGCGT\n",
      "CTATTATTGC GAGTTACATG TAACAACCTC GAACGCCAGG CTTCAAGCGT CCGGTACTGT\n",
      "CTATTATTGC GAGTTACATG TAACAACCTC GAACGCCAGG CTTCAAGCGT CCGGTACTGT\n"
     ]
    }
   ],
   "source": [
    "file = \"rosalind_ba1e.txt\" \n",
    "# file = \"input.txt\" \n",
    "with open(file, 'r') as f:\n",
    "    lines = f.readlines()\n",
    "    dna  = lines[0].strip()\n",
    "    k, L, t = map(int, lines[1].split())\n",
    "\n",
    "print(' '.join(get_clumps(dna, k, L, t)))\n",
    "print(' '.join(get_faster_clumps(dna, k, L, t))) # more efficient approach, but too slow on real data \n",
    "print(' '.join(get_better_faster_clumps(dna, k, L, t))) # the most efficient approach on real data"
   ]
  }
 ],
 "metadata": {
  "interpreter": {
   "hash": "916dbcbb3f70747c44a77c7bcd40155683ae19c65e1c03b4aa3499c5328201f1"
  },
  "kernelspec": {
   "display_name": "Python 3.9.7 64-bit",
   "language": "python",
   "name": "python3"
  },
  "language_info": {
   "codemirror_mode": {
    "name": "ipython",
    "version": 3
   },
   "file_extension": ".py",
   "mimetype": "text/x-python",
   "name": "python",
   "nbconvert_exporter": "python",
   "pygments_lexer": "ipython3",
   "version": "3.8.10"
  },
  "orig_nbformat": 4
 },
 "nbformat": 4,
 "nbformat_minor": 2
}
