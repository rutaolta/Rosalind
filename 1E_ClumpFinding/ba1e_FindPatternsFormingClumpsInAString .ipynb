{
 "cells": [
  {
   "cell_type": "markdown",
   "metadata": {},
   "source": [
    "# Find Patterns Forming Clumps in a String\n",
    "\n",
    "[ba1e](https://rosalind.info/problems/ba1e/)\n",
    "\n",
    "Given integers L and t, a string Pattern forms an (L, t)-clump inside a (larger) string Genome if there is an interval of Genome of length L in which Pattern appears at least t times. For example, TGCA forms a (25,3)-clump in the following Genome: gatcagcataagggtcccTGCAATGCATGACAAGCCTGCAgttgttttac.\n",
    "\n",
    "### Clump Finding Problem\n",
    "\n",
    "Find patterns forming clumps in a string.\n",
    "\n",
    "    Given: \n",
    "\n",
    "A string Genome, and integers k, L, and t.\n",
    "\n",
    "    Return: \n",
    "\n",
    "All distinct k-mers forming (L, t)-clumps in Genome.\n",
    "\n",
    "Sample Dataset\n",
    "\n",
    "    CGGACTCGACAGATGTGAAGAAATGTGAAGACTGAGTGAAGAGAAGAGGAAACACGACACGACATTGCGACATAATGTACGAATGTAATGTGCCTATGGC\n",
    "    5 75 4\n",
    "\n",
    "Sample Output\n",
    "\n",
    "    CGACA GAAGA AATGT"
   ]
  },
  {
   "cell_type": "code",
   "execution_count": 123,
   "metadata": {},
   "outputs": [],
   "source": [
    "from collections import defaultdict"
   ]
  },
  {
   "cell_type": "code",
   "execution_count": 124,
   "metadata": {},
   "outputs": [],
   "source": [
    "def get_frequent_words(seq, k, t):\n",
    "    clumps = set()\n",
    "    kmers = defaultdict(int)\n",
    "    for i in range(len(seq) - k + 1):\n",
    "        kmers[seq[i:i+k]] += 1\n",
    "        if kmers[seq[i:i+k]] >= t:\n",
    "            clumps.add(seq[i:i+k])\n",
    "    \n",
    "    return clumps"
   ]
  },
  {
   "cell_type": "code",
   "execution_count": 125,
   "metadata": {},
   "outputs": [],
   "source": [
    "def get_clumps(dna, k, L, t):\n",
    "    clumps = set()\n",
    "    for i in range(len(dna) - L + 1):\n",
    "        clumps.update(get_frequent_words(dna[i:i+L], k, t))\n",
    "    return clumps"
   ]
  },
  {
   "cell_type": "code",
   "execution_count": 126,
   "metadata": {},
   "outputs": [],
   "source": [
    "def symbol_to_number(symbol):\n",
    "    symbols = {'A': 0, 'C': 1, 'G': 2, 'T': 3}\n",
    "    return symbols[symbol]"
   ]
  },
  {
   "cell_type": "code",
   "execution_count": 127,
   "metadata": {},
   "outputs": [],
   "source": [
    "def number_to_symbol(number):\n",
    "    return 'ACGT'[number]"
   ]
  },
  {
   "cell_type": "code",
   "execution_count": 128,
   "metadata": {},
   "outputs": [],
   "source": [
    "def pattern_to_number(pattern):\n",
    "    if len(pattern) == 0:\n",
    "        return 0\n",
    "    return 4 * pattern_to_number(pattern[:-1]) + symbol_to_number(pattern[-1])"
   ]
  },
  {
   "cell_type": "code",
   "execution_count": 129,
   "metadata": {},
   "outputs": [],
   "source": [
    "def compute_frequencies(dna, k):\n",
    "    freq_array = [0] * 4**k\n",
    "    for i in range(len(dna) - k + 1):\n",
    "        pattern = dna[i:i+k]\n",
    "        j = pattern_to_number(pattern)\n",
    "        freq_array[j] += 1\n",
    "    return freq_array"
   ]
  },
  {
   "cell_type": "code",
   "execution_count": 130,
   "metadata": {},
   "outputs": [],
   "source": [
    "def get_quotient(index):\n",
    "    return index // 4"
   ]
  },
  {
   "cell_type": "code",
   "execution_count": 131,
   "metadata": {},
   "outputs": [],
   "source": [
    "def get_remainder(index):\n",
    "    return index % 4"
   ]
  },
  {
   "cell_type": "code",
   "execution_count": 132,
   "metadata": {},
   "outputs": [],
   "source": [
    "def number_to_pattern(index, k):\n",
    "    if k == 1:\n",
    "        return number_to_symbol(index)\n",
    "    prefix_index = get_quotient(index) \n",
    "    symbol = number_to_symbol(get_remainder(index))\n",
    "    prefix_pattern = number_to_pattern(prefix_index, k-1)\n",
    "    return prefix_pattern + symbol"
   ]
  },
  {
   "cell_type": "code",
   "execution_count": 133,
   "metadata": {},
   "outputs": [],
   "source": [
    "def get_faster_clumps(dna, k, L, t):\n",
    "    freq_patterns = set()\n",
    "    clump = [0] * 4**k\n",
    "\n",
    "    for i in range(len(dna) - L + 1):\n",
    "        pattern = dna[i:i+L]\n",
    "        freq_array = compute_frequencies(pattern, k)\n",
    "        for index in range(4**k):\n",
    "            if freq_array[index] >= t:\n",
    "                clump[index] = 1\n",
    "    for i in range(4**k):\n",
    "        if clump[i] == 1:\n",
    "            freq_patterns.add(number_to_pattern(i, k))\n",
    "\n",
    "    return freq_patterns"
   ]
  },
  {
   "cell_type": "code",
   "execution_count": 134,
   "metadata": {},
   "outputs": [],
   "source": [
    "def get_better_faster_clumps(dna, k, L, t):\n",
    "    freq_patterns = set()\n",
    "    clump = [0] * 4**k\n",
    "\n",
    "    pattern = dna[0:L+1]\n",
    "    freq_array = compute_frequencies(pattern, k)\n",
    "    for i in range(4**k):\n",
    "        if freq_array[i] >= t:\n",
    "            clump[i] = 1\n",
    "    \n",
    "    for i in range(1,len(dna) - L + 1):\n",
    "        first_pattern = dna[i-1:i-1+k]\n",
    "        index = pattern_to_number(first_pattern)\n",
    "        freq_array[index] = freq_array[index] - 1\n",
    "        last_pattern = dna[i+L-k:i+L]\n",
    "        index = pattern_to_number(last_pattern)\n",
    "        freq_array[index] = freq_array[index] + 1\n",
    "        if freq_array[index] >= t:\n",
    "            clump[index] = 1\n",
    "\n",
    "    for i in range(4**k):\n",
    "        if clump[i] == 1:\n",
    "            freq_patterns.add(number_to_pattern(i, k))\n",
    "\n",
    "    return freq_patterns"
   ]
  },
  {
   "cell_type": "code",
   "execution_count": 138,
   "metadata": {},
   "outputs": [
    {
     "name": "stdout",
     "output_type": "stream",
     "text": [
      "CCGGTACTGT GAACGCCAGG TAACAACCTC GAGTTACATG CTTCAAGCGT CTATTATTGC\n",
      "GAACGCCAGG CCGGTACTGT CTTCAAGCGT TAACAACCTC GAGTTACATG CTATTATTGC\n",
      "GAACGCCAGG CCGGTACTGT CTTCAAGCGT TAACAACCTC GAGTTACATG CTATTATTGC\n"
     ]
    }
   ],
   "source": [
    "file = \"rosalind_ba1e.txt\" \n",
    "# file = \"input.txt\" \n",
    "with open(file, 'r') as f:\n",
    "    lines = f.readlines()\n",
    "    dna  = lines[0].strip()\n",
    "    k, L, t = map(int, lines[1].split())\n",
    "\n",
    "print(' '.join(get_clumps(dna, k, L, t)))\n",
    "print(' '.join(get_faster_clumps(dna, k, L, t))) # more efficient approach, but too slow on real data \n",
    "print(' '.join(get_better_faster_clumps(dna, k, L, t))) # the most efficient approach on real data"
   ]
  }
 ],
 "metadata": {
  "interpreter": {
   "hash": "916dbcbb3f70747c44a77c7bcd40155683ae19c65e1c03b4aa3499c5328201f1"
  },
  "kernelspec": {
   "display_name": "Python 3.9.7 64-bit",
   "language": "python",
   "name": "python3"
  },
  "language_info": {
   "codemirror_mode": {
    "name": "ipython",
    "version": 3
   },
   "file_extension": ".py",
   "mimetype": "text/x-python",
   "name": "python",
   "nbconvert_exporter": "python",
   "pygments_lexer": "ipython3",
   "version": "3.8.10"
  },
  "orig_nbformat": 4
 },
 "nbformat": 4,
 "nbformat_minor": 2
}
