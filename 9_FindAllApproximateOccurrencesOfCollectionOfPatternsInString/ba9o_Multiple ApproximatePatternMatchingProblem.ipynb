{
 "cells": [
  {
   "cell_type": "markdown",
   "source": [
    "# Find All Approximate Occurrences of a Collection of Patterns in a String\n",
    "\n",
    "[ba9o](https://rosalind.info/problems/ba9o/)\n",
    "\n",
    "## Multiple Approximate Pattern Matching Problem\n",
    "\n",
    "Find all approximate occurrences of a collection of patterns in a text.\n",
    "\n",
    "    Given:\n",
    "\n",
    "A string Text, a collection of strings Patterns, and an integer d.\n",
    "\n",
    "    Return:\n",
    "\n",
    "All positions in Text where a string from Patterns appears as a substring with at most d mismatches."
   ],
   "metadata": {}
  },
  {
   "cell_type": "code",
   "execution_count": 5,
   "source": [
    "def enumerate_kmers(string, k, start=0):\n",
    "    for i in range(0, len(string) - k + 1):\n",
    "        yield start + i, string[i: i + k]"
   ],
   "outputs": [],
   "metadata": {}
  },
  {
   "cell_type": "code",
   "execution_count": 6,
   "source": [
    "def hamming_distance(s1, s2):\n",
    "    return sum([x != y for x, y in zip(s1, s2)])"
   ],
   "outputs": [],
   "metadata": {}
  },
  {
   "cell_type": "code",
   "execution_count": 7,
   "source": [
    "def find_approximate(text, pattern, d):\n",
    "    k = len(pattern)\n",
    "    return [i for i, kmer in enumerate_kmers(text, k) if hamming_distance(pattern, kmer) <= d]"
   ],
   "outputs": [],
   "metadata": {}
  },
  {
   "cell_type": "code",
   "execution_count": 14,
   "source": [
    "# file = \"MultipleApproximatePatternMatching/inputs/input_4.txt\"\n",
    "file = 'rosalind_ba9o.txt'\n",
    "with open(file, 'r') as f:\n",
    "    lines = f.readlines()\n",
    "    text = lines[0].strip()\n",
    "    patterns = lines[1].strip().split()\n",
    "    d = int(lines[2])\n",
    "\n",
    "positions = []\n",
    "for pattern in patterns:\n",
    "    positions.extend(find_approximate(text, pattern, d))\n",
    "\n",
    "print(' '.join(map(str, list(sorted(positions)))))"
   ],
   "outputs": [
    {
     "output_type": "stream",
     "name": "stdout",
     "text": [
      "0 0\n"
     ]
    }
   ],
   "metadata": {}
  }
 ],
 "metadata": {
  "orig_nbformat": 4,
  "language_info": {
   "name": "python",
   "version": "3.8.10",
   "mimetype": "text/x-python",
   "codemirror_mode": {
    "name": "ipython",
    "version": 3
   },
   "pygments_lexer": "ipython3",
   "nbconvert_exporter": "python",
   "file_extension": ".py"
  },
  "kernelspec": {
   "name": "python3",
   "display_name": "Python 3.8.10 64-bit"
  },
  "interpreter": {
   "hash": "916dbcbb3f70747c44a77c7bcd40155683ae19c65e1c03b4aa3499c5328201f1"
  }
 },
 "nbformat": 4,
 "nbformat_minor": 2
}