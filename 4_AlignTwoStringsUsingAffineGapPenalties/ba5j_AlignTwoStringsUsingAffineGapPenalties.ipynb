{
 "cells": [
  {
   "cell_type": "markdown",
   "source": [
    "# Align Two Strings Using Affine Gap Penalties\n",
    "\n",
    "[ba5j](https://rosalind.info/problems/ba5j/)\n",
    "\n",
    "A gap is a contiguous sequence of spaces in a row of an alignment. One way to score gaps more appropriately is to define an affine penalty for a gap of length k as σ + ε · (k − 1), where σ is the gap opening penalty, assessed to the first symbol in the gap, and ε is the gap extension penalty, assessed to each additional symbol in the gap. We typically select ε to be smaller than σ so that the affine penalty for a gap of length k is smaller than the penalty for k independent single-nucleotide indels (σ · k).\n",
    "\n",
    "## Alignment with Affine Gap Penalties Problem\n",
    "\n",
    "Construct a highest-scoring global alignment of two strings (with affine gap penalties).\n",
    "\n",
    "    Given: \n",
    "    \n",
    "Two amino acid strings v and w (each of length at most 100).\n",
    "\n",
    "    Return: \n",
    "    \n",
    "The maximum alignment score between v and w, followed by an alignment of v and w achieving this maximum score. Use the BLOSUM62 scoring matrix, a gap opening penalty of 11, and a gap extension penalty of 1."
   ],
   "metadata": {}
  },
  {
   "cell_type": "code",
   "execution_count": 2,
   "source": [
    "blosum = [\n",
    "    [ 4,  0, -2, -1, -2,  0, -2, -1, -1, -1, -1, -2, -1, -1, -1,  1,  0,  0, -3, -2],\n",
    "    [ 0,  9, -3, -4, -2, -3, -3, -1, -3, -1, -1, -3, -3, -3, -3, -1, -1, -1, -2, -2],\n",
    "    [-2, -3,  6,  2, -3, -1, -1, -3, -1, -4, -3,  1, -1,  0, -2,  0, -1, -3, -4, -3],\n",
    "    [-1, -4,  2,  5, -3, -2,  0, -3,  1, -3, -2,  0, -1,  2,  0,  0, -1, -2, -3, -2],\n",
    "    [-2, -2, -3, -3,  6, -3, -1,  0, -3,  0,  0, -3, -4, -3, -3, -2, -2, -1,  1,  3],\n",
    "    [ 0, -3, -1, -2, -3,  6, -2, -4, -2, -4, -3,  0, -2, -2, -2,  0, -2, -3, -2, -3],\n",
    "    [-2, -3, -1,  0, -1, -2,  8, -3, -1, -3, -2,  1, -2,  0,  0, -1, -2, -3, -2,  2],\n",
    "    [-1, -1, -3, -3,  0, -4, -3,  4, -3,  2,  1, -3, -3, -3, -3, -2, -1,  3, -3, -1],\n",
    "    [-1, -3, -1,  1, -3, -2, -1, -3,  5, -2, -1,  0, -1,  1,  2,  0, -1, -2, -3, -2],\n",
    "    [-1, -1, -4, -3,  0, -4, -3,  2, -2,  4,  2, -3, -3, -2, -2, -2, -1,  1, -2, -1],\n",
    "    [-1, -1, -3, -2,  0, -3, -2,  1, -1,  2,  5, -2, -2,  0, -1, -1, -1,  1, -1, -1],\n",
    "    [-2, -3,  1,  0, -3,  0,  1, -3,  0, -3, -2,  6, -2,  0,  0,  1,  0, -3, -4, -2],\n",
    "    [-1, -3, -1, -1, -4, -2, -2, -3, -1, -3, -2, -2,  7, -1, -2, -1, -1, -2, -4, -3],\n",
    "    [-1, -3,  0,  2, -3, -2,  0, -3,  1, -2,  0,  0, -1,  5,  1,  0, -1, -2, -2, -1],\n",
    "    [-1, -3, -2,  0, -3, -2,  0, -3,  2, -2, -1,  0, -2,  1,  5, -1, -1, -3, -3, -2],\n",
    "    [ 1, -1,  0,  0, -2,  0, -1, -2,  0, -2, -1,  1, -1,  0, -1,  4,  1, -2, -3, -2],\n",
    "    [ 0, -1, -1, -1, -2, -2, -2, -1, -1, -1, -1,  0, -1, -1, -1,  1,  5,  0, -2, -2],\n",
    "    [ 0, -1, -3, -2, -1, -3, -3,  3, -2,  1,  1, -3, -2, -2, -3, -2,  0,  4, -3, -1],\n",
    "    [-3, -2, -4, -3,  1, -2, -2, -3, -3, -2, -1, -4, -4, -2, -3, -3, -2, -3, 11,  2],\n",
    "    [-2, -2, -3, -2,  3, -3,  2, -1, -2, -1, -1, -2, -3, -1, -2, -2, -2, -1,  2,  7]\n",
    "]\n",
    "aminoacids = ['A', 'C', 'D', 'E', 'F', 'G', 'H', 'I', 'K', 'L', 'M', 'N', 'P', 'Q', 'R', 'S', 'T', 'V', 'W', 'Y']\n"
   ],
   "outputs": [],
   "metadata": {}
  },
  {
   "cell_type": "code",
   "execution_count": 69,
   "source": [
    "def do_alignment(v, w, sigma, epsilon):\n",
    "    m = len(v)\n",
    "    n = len(w)\n",
    "    lower = [[0]*(n + 1) for _ in range(m + 1)]\n",
    "    main = [[0]*(n + 1) for _ in range(m + 1)]\n",
    "    upper = [[0]*(n + 1) for _ in range(m + 1)]\n",
    "    lower_dir = [[0]*(n + 1) for _ in range(m + 1)]\n",
    "    main_dir = [[0]*(n + 1) for _ in range(m + 1)]\n",
    "    upper_dir = [[0]*(n + 1) for _ in range(m + 1)]\n",
    "\n",
    "    for i in range(1, m+1):\n",
    "        lower[i][0] = -sigma - (i-1)*epsilon\n",
    "        main[i][0] = -sigma - (i-1)*epsilon\n",
    "        upper[i][0] = -10*sigma\n",
    "    for j in range(1, n+1):\n",
    "        lower[0][j] = -10*sigma\n",
    "        main[0][j] = -sigma - (j-1)*epsilon\n",
    "        upper[0][j] = -sigma - (j-1)*epsilon\n",
    "\n",
    "    for i in range(1, m+1):\n",
    "        for j in range(1, n+1):\n",
    "            coef = blosum[aminoacids.index(v[i - 1])][aminoacids.index(w[j - 1])]\n",
    "            lower_scores = [lower[i-1][j] - epsilon, main[i-1][j] - sigma]\n",
    "            lower[i][j] = max(lower_scores)\n",
    "            lower_dir[i][j] = lower_scores.index(lower[i][j])\n",
    "\n",
    "            upper_scores = [upper[i][j-1] - epsilon, main[i][j-1] - sigma]\n",
    "            upper[i][j] = max(upper_scores)\n",
    "            upper_dir[i][j] = upper_scores.index(upper[i][j])\n",
    "\n",
    "            middle_scores = [lower[i][j], main[i-1][j-1] + coef, upper[i][j]]\n",
    "            main[i][j] = max(middle_scores)\n",
    "            main_dir[i][j] = middle_scores.index(main[i][j])\n",
    "\n",
    "    i, j = m, n\n",
    "    rv, rw = [], []\n",
    "\n",
    "    matrix_scores = [lower[i][j], main[i][j], upper[i][j]]\n",
    "    max_score = max(matrix_scores)\n",
    "    backtrack_matrix = matrix_scores.index(max_score)\n",
    "\n",
    "    while i != 0 or j != 0:\n",
    "        if backtrack_matrix == 0:\n",
    "            if lower_dir[i][j] == 1:\n",
    "                backtrack_matrix = 1\n",
    "            rv.append(v[i - 1])\n",
    "            rw.append('-')\n",
    "            i -= 1\n",
    "\n",
    "        elif backtrack_matrix == 1:\n",
    "            if main_dir[i][j] == 0:\n",
    "                backtrack_matrix = 0\n",
    "            elif main_dir[i][j] == 2:\n",
    "                backtrack_matrix = 2\n",
    "            else:\n",
    "                rv.append(v[i - 1])\n",
    "                rw.append(w[j - 1])\n",
    "                i -= 1\n",
    "                j -= 1\n",
    "\n",
    "        else:\n",
    "            if upper_dir[i][j] == 1:\n",
    "                backtrack_matrix = 1\n",
    "            rv.append('-')\n",
    "            rw.append(w[j - 1])\n",
    "            j -= 1\n",
    "\n",
    "    return str(max_score), ''.join(reversed(rv)), ''.join(reversed(rw))"
   ],
   "outputs": [],
   "metadata": {}
  },
  {
   "cell_type": "code",
   "execution_count": 70,
   "source": [
    "file = \"rosalind_ba5j.txt\" \n",
    "with open(file, 'r') as f:\n",
    "    lines = f.readlines()\n",
    "    line1, line2 = lines[0].split()[0], lines[1].split()[0]\n",
    "\n",
    "print('\\n'.join(do_alignment(line1, line2, 11, 1)))"
   ],
   "outputs": [
    {
     "output_type": "stream",
     "name": "stdout",
     "text": [
      "212\n",
      "NESDDRACNLLHDKCAKKLMENWHDRWMCGRNSSMRW-CGWAACPFQMSINAVNPYWQNTPDELRKQKPIDYVFIKMLRP--WDW\n",
      "NE--ERFQFKLHDKCAKKLFENWHDRWMCGRNSSMRFQMAWGM--FGEVINAVNPLRPANWCAGCYIKPIDYVFCKMLSPAHWDW\n"
     ]
    }
   ],
   "metadata": {}
  }
 ],
 "metadata": {
  "orig_nbformat": 4,
  "language_info": {
   "name": "python",
   "version": "3.8.10",
   "mimetype": "text/x-python",
   "codemirror_mode": {
    "name": "ipython",
    "version": 3
   },
   "pygments_lexer": "ipython3",
   "nbconvert_exporter": "python",
   "file_extension": ".py"
  },
  "kernelspec": {
   "name": "python3",
   "display_name": "Python 3.8.10 64-bit"
  },
  "interpreter": {
   "hash": "31f2aee4e71d21fbe5cf8b01ff0e069b9275f58929596ceb00d14d90e3e16cd6"
  }
 },
 "nbformat": 4,
 "nbformat_minor": 2
}