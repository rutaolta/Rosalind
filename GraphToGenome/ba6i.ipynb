{
 "cells": [
  {
   "cell_type": "markdown",
   "source": [
    "# Implement GraphToGenome\n",
    "\n",
    "[ba6i](https://rosalind.info/problems/ba6i/)\n",
    "\n",
    "The colored edges in the breakpoint graph of P and Q are given by ColoredEdges(P) together with ColoredEdges(Q). Note that some edges in these two sets may connect the same two nodes, which results in trivial cycles.\n",
    "\n",
    "We will find it helpful to implement a function converting a genome graph back into a genome.\n",
    "\n",
    "    GraphToGenome(GenomeGraph)\n",
    "        P ← an empty set of chromosomes\n",
    "        for each cycle Nodes in GenomeGraph\n",
    "            Chromosome ← CycleToChromosome(Nodes)\n",
    "            add Chromosome to P\n",
    "        return P"
   ],
   "metadata": {}
  },
  {
   "cell_type": "code",
   "execution_count": 244,
   "source": [
    "import re\n",
    "import numpy as np"
   ],
   "outputs": [],
   "metadata": {}
  },
  {
   "cell_type": "code",
   "execution_count": 245,
   "source": [
    "def cycle_to_chromosome(nodes, cycle_num=0):\n",
    "    p = []\n",
    "    for j in range(0, len(nodes)//2):\n",
    "        if nodes[2 * j] < nodes[2 * j+1]:\n",
    "            chrm = j + 1 + cycle_num\n",
    "        else:\n",
    "            chrm = -(j + 1 + cycle_num)\n",
    "        p.append(chrm)\n",
    "    return p"
   ],
   "outputs": [],
   "metadata": {}
  },
  {
   "cell_type": "code",
   "execution_count": 246,
   "source": [
    "def graph_to_genome(graph):\n",
    "    # chromosomes = []\n",
    "    # cycles =\n",
    "    # for cycle in cycles:\n",
    "    #     chromosome = cycle_to_chromosome(cycle)\n",
    "    #     chromosomes.append(chromosome)\n",
    "    # return chromosomes\n",
    "\n",
    "    cycles, chrm = [], []\n",
    "    for pair in graph:\n",
    "        if pair[0] > pair[1]:\n",
    "            chrm.append(pair[0])\n",
    "            chrm.insert(0, pair[1])\n",
    "            cycles.append(chrm)\n",
    "            chrm = []\n",
    "        else:\n",
    "            chrm.extend([pair[0], pair[1]])\n",
    "    chromosomes, cycle_num = [], 0\n",
    "    for cycle in cycles:\n",
    "        chromosome = cycle_to_chromosome(cycle, cycle_num)\n",
    "        chromosomes.append(chromosome)\n",
    "        cycle_num += len(cycle)//2\n",
    "    return chromosomes"
   ],
   "outputs": [],
   "metadata": {}
  },
  {
   "cell_type": "code",
   "execution_count": 247,
   "source": [
    "def nodes_str_to_tuple(nodes):\n",
    "    return list(map(int, nodes.split(', ')))"
   ],
   "outputs": [],
   "metadata": {}
  },
  {
   "cell_type": "code",
   "execution_count": 248,
   "source": [
    "def perms_str_to_list(perm_str):\n",
    "    return [nodes_str_to_tuple(perm) for perm in re.findall('\\((.*?)\\)',perm_str)]"
   ],
   "outputs": [],
   "metadata": {}
  },
  {
   "cell_type": "code",
   "execution_count": 249,
   "source": [
    "def list_to_chromosome(genome):\n",
    "    return ['(' + ' '.join(['+' + str(int(part)) if part > 0 else str(int(part)) for part in chrm]) + ')' for chrm in genome]"
   ],
   "outputs": [],
   "metadata": {}
  },
  {
   "cell_type": "code",
   "execution_count": 250,
   "source": [
    "# file = \"input.txt\"\n",
    "file = \"rosalind_ba6i.txt\"\n",
    "with open(file, 'r') as f:\n",
    "    lines = f.read().splitlines()\n",
    "graph = perms_str_to_list(lines[0])\n",
    "graph\n",
    "print(''.join(list_to_chromosome(graph_to_genome(graph))))"
   ],
   "outputs": [
    {
     "output_type": "stream",
     "name": "stdout",
     "text": [
      "(-1 -2 +3 +4 +5 +6 -7 +8 -9 +10 +11 +12 -13 -14 +15 -16 -17 +18 +19 -20 -21)(+22 +23 +24 +25 -26 +27 +28 +29 +30 +31 -32 -33 +34 -35 +36 -37 -38 +39 -40 +41 +42 -43 +44 +45 -46)(-47 +48 -49 +50 -51 -52 +53 +54 -55 -56 +57 -58 +59 -60 +61 +62 +63 +64 +65 +66 +67 +68 -69 +70 +71 +72 -73)(+74 +75 -76 +77 -78 +79 -80 -81 +82 +83 +84 -85 -86 +87 -88 -89 -90 -91 -92 -93 -94 +95 -96 -97 -98)(-99 +100 -101 +102 +103 +104 -105 +106 +107 -108 -109 +110 -111 -112 +113 +114 -115 -116 -117 +118 +119 +120 -121 -122)(-123 -124 -125 -126 +127 -128 -129 -130 -131 -132 -133 +134 -135 +136 +137 +138 +139 -140 -141 +142 +143 +144 +145 +146 +147)(+148 +149 +150 +151 +152 -153 -154 -155 -156 -157 +158 +159 -160 -161 +162 +163 -164 +165 -166 +167 -168 -169 -170 +171 -172 +173 +174 +175 +176)\n"
     ]
    }
   ],
   "metadata": {}
  }
 ],
 "metadata": {
  "orig_nbformat": 4,
  "language_info": {
   "name": "python",
   "version": "3.8.10",
   "mimetype": "text/x-python",
   "codemirror_mode": {
    "name": "ipython",
    "version": 3
   },
   "pygments_lexer": "ipython3",
   "nbconvert_exporter": "python",
   "file_extension": ".py"
  },
  "kernelspec": {
   "name": "python3",
   "display_name": "Python 3.8.10 64-bit"
  },
  "interpreter": {
   "hash": "916dbcbb3f70747c44a77c7bcd40155683ae19c65e1c03b4aa3499c5328201f1"
  }
 },
 "nbformat": 4,
 "nbformat_minor": 2
}