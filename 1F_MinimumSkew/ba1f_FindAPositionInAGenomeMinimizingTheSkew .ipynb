{
 "cells": [
  {
   "cell_type": "markdown",
   "metadata": {},
   "source": [
    "# Find a Position in a Genome Minimizing the Skew\n",
    "\n",
    "[ba1f](https://rosalind.info/problems/ba1f/)\n",
    "\n",
    "Define the skew of a DNA string Genome, denoted Skew(Genome), as the difference between the total number of occurrences of 'G' and 'C' in Genome. Let Prefixi (Genome) denote the prefix (i.e., initial substring) of Genome of length i. For example, the values of Skew(Prefixi (\"CATGGGCATCGGCCATACGCC\")) are:\n",
    "\n",
    "0 -1 -1 -1 0 1 2 1 1 1 0 1 2 1 0 0 0 0 -1 0 -1 -2\n",
    "\n",
    "### Minimum Skew Problem\n",
    "\n",
    "Find a position in a genome minimizing the skew.\n",
    "\n",
    "    Given: \n",
    "\n",
    "A DNA string Genome.\n",
    "\n",
    "    Return: \n",
    "\n",
    "All integer(s) i minimizing Skew(Prefixi (Text)) over all values of i (from 0 to |Genome|).\n",
    "\n",
    "Sample Dataset\n",
    "\n",
    "    CCTATCGGTGGATTAGCATGTCCCTGTACGTTTCGCCGCGAACTAGTTCACACGGCTTGATGGCAAATGGTTTTTCCGGCGACCGTAATCGTCCACCGAG\n",
    "\n",
    "Sample Output\n",
    "\n",
    "    53 97"
   ]
  },
  {
   "cell_type": "code",
   "execution_count": 47,
   "metadata": {},
   "outputs": [],
   "source": [
    "from numpy import inf"
   ]
  },
  {
   "cell_type": "code",
   "execution_count": 48,
   "metadata": {},
   "outputs": [],
   "source": [
    "def get_minimum_skew(dna):\n",
    "    skew = {'C':-1, 'G':1, 'A':0, 'T':0}\n",
    "    res = 0\n",
    "    minres = inf\n",
    "    positions = set()\n",
    "    for i in range(len(dna)):\n",
    "        res += skew[dna[i]]\n",
    "        if res <= minres:\n",
    "            if res < minres:\n",
    "                positions.clear()\n",
    "                minres = res\n",
    "            positions.add(str(i+1))\n",
    "    return positions"
   ]
  },
  {
   "cell_type": "code",
   "execution_count": 49,
   "metadata": {},
   "outputs": [
    {
     "name": "stdout",
     "output_type": "stream",
     "text": [
      "9239 9233 9232 9234 10041\n"
     ]
    }
   ],
   "source": [
    "file = \"rosalind_ba1f.txt\" \n",
    "# file = \"input.txt\" \n",
    "with open(file, 'r') as f:\n",
    "    lines = f.readlines()\n",
    "    dna  = lines[0].strip()\n",
    "\n",
    "print(' '.join(get_minimum_skew(dna)))"
   ]
  }
 ],
 "metadata": {
  "interpreter": {
   "hash": "916dbcbb3f70747c44a77c7bcd40155683ae19c65e1c03b4aa3499c5328201f1"
  },
  "kernelspec": {
   "display_name": "Python 3.9.7 64-bit",
   "language": "python",
   "name": "python3"
  },
  "language_info": {
   "codemirror_mode": {
    "name": "ipython",
    "version": 3
   },
   "file_extension": ".py",
   "mimetype": "text/x-python",
   "name": "python",
   "nbconvert_exporter": "python",
   "pygments_lexer": "ipython3",
   "version": "3.8.10"
  },
  "orig_nbformat": 4
 },
 "nbformat": 4,
 "nbformat_minor": 2
}
