{
 "cells": [
  {
   "cell_type": "markdown",
   "metadata": {},
   "source": [
    "# Implement NumberToPattern\n",
    "\n",
    "[ba1m](https://rosalind.info/problems/ba1m/)\n",
    "\n",
    "### Implement NumberToPattern\n",
    "\n",
    "Convert an integer to its corresponding DNA string.\n",
    "\n",
    "    Given: \n",
    "\n",
    "Integers index and k.\n",
    "\n",
    "    Return: \n",
    "\n",
    "NumberToPattern(index, k).\n",
    "\n",
    "Sample Dataset\n",
    "\n",
    "    45\n",
    "    4\n",
    "\n",
    "Sample Output\n",
    "\n",
    "    AGTC"
   ]
  },
  {
   "cell_type": "code",
   "execution_count": 1,
   "metadata": {},
   "outputs": [],
   "source": [
    "from sys import path\n",
    "path.append(\"../\")\n",
    "import common"
   ]
  },
  {
   "cell_type": "code",
   "execution_count": 2,
   "metadata": {},
   "outputs": [],
   "source": [
    "def number_to_pattern(index, k):\n",
    "    if k == 1:\n",
    "        return common.number_to_symbol(index)\n",
    "    prefix_index = common.get_quotient(index) \n",
    "    symbol = common.number_to_symbol(common.get_remainder(index))\n",
    "    prefix_pattern = number_to_pattern(prefix_index, k-1)\n",
    "    return prefix_pattern + symbol"
   ]
  },
  {
   "cell_type": "code",
   "execution_count": 3,
   "metadata": {},
   "outputs": [
    {
     "name": "stdout",
     "output_type": "stream",
     "text": [
      "CTTCCCC\n"
     ]
    }
   ],
   "source": [
    "file = \"rosalind_ba1m.txt\" \n",
    "# file = \"input.txt\" \n",
    "with open(file, 'r') as f:\n",
    "    lines = f.readlines()\n",
    "    index, k = int(lines[0].strip()), int(lines[1])\n",
    "\n",
    "print(number_to_pattern(index, k))"
   ]
  }
 ],
 "metadata": {
  "interpreter": {
   "hash": "916dbcbb3f70747c44a77c7bcd40155683ae19c65e1c03b4aa3499c5328201f1"
  },
  "kernelspec": {
   "display_name": "Python 3.9.7 64-bit",
   "language": "python",
   "name": "python3"
  },
  "language_info": {
   "codemirror_mode": {
    "name": "ipython",
    "version": 3
   },
   "file_extension": ".py",
   "mimetype": "text/x-python",
   "name": "python",
   "nbconvert_exporter": "python",
   "pygments_lexer": "ipython3",
   "version": "3.8.10"
  },
  "orig_nbformat": 4
 },
 "nbformat": 4,
 "nbformat_minor": 2
}
